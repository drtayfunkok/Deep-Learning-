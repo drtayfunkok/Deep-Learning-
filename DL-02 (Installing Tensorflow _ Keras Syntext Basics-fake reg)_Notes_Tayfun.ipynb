{
 "cells": [
  {
   "cell_type": "markdown",
   "metadata": {},
   "source": [
    "___\n",
    "\n",
    "<p style=\"text-align: center;\"><img src=\"https://docs.google.com/uc?id=1lY0Uj5R04yMY3-ZppPWxqCr5pvBLYPnV\" class=\"img-fluid\" alt=\"CLRSWY\"></p>\n",
    "\n",
    "___"
   ]
  },
  {
   "cell_type": "markdown",
   "metadata": {},
   "source": [
    "<h1 style=\"text-align: center;\">Deep Learning<br><br>Session - 2<br><br>Installing Tensorflow & Keras Syntax Basics<br><br>Fake Reg<br><h1>"
   ]
  },
  {
   "cell_type": "code",
   "execution_count": 1,
   "metadata": {},
   "outputs": [],
   "source": [
    "# bir onceki ders : \n",
    "\n",
    "\n",
    "# deep learningde en onemli konu datanin cok olmasi. \n",
    "# regression problemlerinde linear activation kullanilir. Cunku degerlerimiz 45 ise 45 olarak cikmali. \n",
    "# sigmoid kullanirsak 0 ile 1 arasinda cikartir. \n"
   ]
  },
  {
   "cell_type": "code",
   "execution_count": 2,
   "metadata": {},
   "outputs": [],
   "source": [
    "# epoch : Butun datanin kac defa islenmis olmasina denir. \n",
    "# batch : datanin group group islenmis olmasi. batch_size= toplam data sayisis / toplam batch sayisi.  \n",
    "# 1000 tane datam varsa ve ben bunun icin her group icin bath size=100 ise dolayisyla 10 tane iteration olur. \n",
    "# bir epoch aslinda iterationlarda olusuyor. 1 epoch = batch size * iteration. "
   ]
  },
  {
   "cell_type": "code",
   "execution_count": 3,
   "metadata": {},
   "outputs": [],
   "source": [
    "# gradient descent : cost function i minimize etmek icin optimization methodu.\n",
    "# step size =  slope * learning rate\n",
    "# learning rate cok buyuk olursa step size buyur. bu yuzden minimim value degeri atlayabilit optimization yaparken.\n",
    "# bu yuzden leaarnin rate cok buuyk secmemeliyiz. "
   ]
  },
  {
   "cell_type": "code",
   "execution_count": 4,
   "metadata": {},
   "outputs": [],
   "source": [
    "# en iyi calisan optimization methodu \"adam\" dir. biz bunu kullanacagiz. "
   ]
  },
  {
   "cell_type": "code",
   "execution_count": 5,
   "metadata": {},
   "outputs": [],
   "source": [
    "# Backpropagation : geriye yagilim. \n",
    "# Neural network deyince aklimiza iki sey gelir: 1. Mimari (Artchitucre), 2.Ogrenme methodu (learnin method)"
   ]
  },
  {
   "cell_type": "code",
   "execution_count": 6,
   "metadata": {},
   "outputs": [],
   "source": [
    "# RNN, ANN, CNN bir mimaridir. \n",
    "# Backpropagation ise bir ogrenmedir. \n",
    "# gradient decsent kullanarak geriye donup tum katsayilari ayarlar. \n",
    "# feed forward data : ileri dogru besleme. \n",
    "# bir satir isleme firer (feed forward) ve burda bir hata olusur. \n",
    "# sonra gradient descent ile katsayilari geriye donup update eder.\n",
    "# ayni islemi diger satir icin yapar. bu sekilde son satira kadar islem devam eder. \n",
    "# en sonunda hatamiz gittikce kuculur. \n",
    "# biz buna Backpropagation diyoruz "
   ]
  },
  {
   "cell_type": "code",
   "execution_count": 7,
   "metadata": {},
   "outputs": [],
   "source": [
    "# Backpropagation batch nasil calisir?\n",
    "# cvp : bu sefer her batch icindeki her bir iteretion icin bir hata bulur sonra bu hatalarin ortalamasini alir...\n",
    "# ... ve yukarda soyledigim islemleri bu sefer ortalama errorlar icin yapar."
   ]
  },
  {
   "cell_type": "code",
   "execution_count": null,
   "metadata": {},
   "outputs": [],
   "source": []
  },
  {
   "cell_type": "markdown",
   "metadata": {},
   "source": [
    "# Installing Tensorflow"
   ]
  },
  {
   "cell_type": "code",
   "execution_count": 8,
   "metadata": {},
   "outputs": [
    {
     "name": "stdout",
     "output_type": "stream",
     "text": [
      "Python 3.9.13\n"
     ]
    }
   ],
   "source": [
    "!python --version"
   ]
  },
  {
   "cell_type": "code",
   "execution_count": 9,
   "metadata": {},
   "outputs": [],
   "source": [
    "#pip install tensorflow"
   ]
  },
  {
   "cell_type": "code",
   "execution_count": 10,
   "metadata": {},
   "outputs": [
    {
     "data": {
      "text/plain": [
       "'2.10.0'"
      ]
     },
     "execution_count": 10,
     "metadata": {},
     "output_type": "execute_result"
    }
   ],
   "source": [
    "import tensorflow as tf\n",
    "tf.__version__"
   ]
  },
  {
   "cell_type": "markdown",
   "metadata": {},
   "source": [
    "# Keras Syntax Basics"
   ]
  },
  {
   "cell_type": "code",
   "execution_count": 11,
   "metadata": {},
   "outputs": [],
   "source": [
    "import numpy as np\n",
    "import pandas as pd\n",
    "import matplotlib.pyplot as plt\n",
    "import seaborn as sns\n",
    "\n",
    "import warnings\n",
    "warnings.filterwarnings(\"ignore\")\n",
    "warnings.warn(\"this will not show\")\n",
    "\n",
    "plt.rcParams[\"figure.figsize\"] = (10,6)\n",
    "\n",
    "sns.set_style(\"whitegrid\")\n",
    "pd.set_option('display.float_format', lambda x: '%.3f' % x)\n",
    "\n",
    "# Set it None to display all rows in the dataframe\n",
    "# pd.set_option('display.max_rows', None)\n",
    "\n",
    "# Set it to None to display all columns in the dataframe\n",
    "pd.set_option('display.max_columns', None)"
   ]
  },
  {
   "cell_type": "code",
   "execution_count": 12,
   "metadata": {},
   "outputs": [],
   "source": [
    "#from google.colab import drive\n",
    "#drive.mount('/content/drive') "
   ]
  },
  {
   "cell_type": "code",
   "execution_count": 13,
   "metadata": {},
   "outputs": [],
   "source": [
    "#df = pd.read_csv(\"drive/MyDrive/Colab_Files/data/fake_reg.csv\")"
   ]
  },
  {
   "cell_type": "code",
   "execution_count": 14,
   "metadata": {},
   "outputs": [],
   "source": [
    "df = pd.read_csv(\"fake_reg.csv\")"
   ]
  },
  {
   "cell_type": "markdown",
   "metadata": {},
   "source": [
    "## Exploratory Data Analysis and Visualization"
   ]
  },
  {
   "cell_type": "code",
   "execution_count": 15,
   "metadata": {},
   "outputs": [
    {
     "data": {
      "text/html": [
       "<div>\n",
       "<style scoped>\n",
       "    .dataframe tbody tr th:only-of-type {\n",
       "        vertical-align: middle;\n",
       "    }\n",
       "\n",
       "    .dataframe tbody tr th {\n",
       "        vertical-align: top;\n",
       "    }\n",
       "\n",
       "    .dataframe thead th {\n",
       "        text-align: right;\n",
       "    }\n",
       "</style>\n",
       "<table border=\"1\" class=\"dataframe\">\n",
       "  <thead>\n",
       "    <tr style=\"text-align: right;\">\n",
       "      <th></th>\n",
       "      <th>price</th>\n",
       "      <th>feature1</th>\n",
       "      <th>feature2</th>\n",
       "    </tr>\n",
       "  </thead>\n",
       "  <tbody>\n",
       "    <tr>\n",
       "      <th>0</th>\n",
       "      <td>461.528</td>\n",
       "      <td>999.788</td>\n",
       "      <td>999.766</td>\n",
       "    </tr>\n",
       "    <tr>\n",
       "      <th>1</th>\n",
       "      <td>548.130</td>\n",
       "      <td>998.862</td>\n",
       "      <td>1001.042</td>\n",
       "    </tr>\n",
       "    <tr>\n",
       "      <th>2</th>\n",
       "      <td>410.297</td>\n",
       "      <td>1000.070</td>\n",
       "      <td>998.844</td>\n",
       "    </tr>\n",
       "    <tr>\n",
       "      <th>3</th>\n",
       "      <td>540.382</td>\n",
       "      <td>999.952</td>\n",
       "      <td>1000.441</td>\n",
       "    </tr>\n",
       "    <tr>\n",
       "      <th>4</th>\n",
       "      <td>546.025</td>\n",
       "      <td>1000.446</td>\n",
       "      <td>1000.339</td>\n",
       "    </tr>\n",
       "  </tbody>\n",
       "</table>\n",
       "</div>"
      ],
      "text/plain": [
       "    price  feature1  feature2\n",
       "0 461.528   999.788   999.766\n",
       "1 548.130   998.862  1001.042\n",
       "2 410.297  1000.070   998.844\n",
       "3 540.382   999.952  1000.441\n",
       "4 546.025  1000.446  1000.339"
      ]
     },
     "execution_count": 15,
     "metadata": {},
     "output_type": "execute_result"
    }
   ],
   "source": [
    "df.head()"
   ]
  },
  {
   "cell_type": "code",
   "execution_count": 16,
   "metadata": {},
   "outputs": [
    {
     "name": "stdout",
     "output_type": "stream",
     "text": [
      "<class 'pandas.core.frame.DataFrame'>\n",
      "RangeIndex: 1000 entries, 0 to 999\n",
      "Data columns (total 3 columns):\n",
      " #   Column    Non-Null Count  Dtype  \n",
      "---  ------    --------------  -----  \n",
      " 0   price     1000 non-null   float64\n",
      " 1   feature1  1000 non-null   float64\n",
      " 2   feature2  1000 non-null   float64\n",
      "dtypes: float64(3)\n",
      "memory usage: 23.6 KB\n"
     ]
    }
   ],
   "source": [
    "df.info()"
   ]
  },
  {
   "cell_type": "code",
   "execution_count": 17,
   "metadata": {},
   "outputs": [
    {
     "data": {
      "text/html": [
       "<div>\n",
       "<style scoped>\n",
       "    .dataframe tbody tr th:only-of-type {\n",
       "        vertical-align: middle;\n",
       "    }\n",
       "\n",
       "    .dataframe tbody tr th {\n",
       "        vertical-align: top;\n",
       "    }\n",
       "\n",
       "    .dataframe thead th {\n",
       "        text-align: right;\n",
       "    }\n",
       "</style>\n",
       "<table border=\"1\" class=\"dataframe\">\n",
       "  <thead>\n",
       "    <tr style=\"text-align: right;\">\n",
       "      <th></th>\n",
       "      <th>count</th>\n",
       "      <th>mean</th>\n",
       "      <th>std</th>\n",
       "      <th>min</th>\n",
       "      <th>25%</th>\n",
       "      <th>50%</th>\n",
       "      <th>75%</th>\n",
       "      <th>max</th>\n",
       "    </tr>\n",
       "  </thead>\n",
       "  <tbody>\n",
       "    <tr>\n",
       "      <th>price</th>\n",
       "      <td>1000.000</td>\n",
       "      <td>498.673</td>\n",
       "      <td>93.785</td>\n",
       "      <td>223.347</td>\n",
       "      <td>433.026</td>\n",
       "      <td>502.382</td>\n",
       "      <td>564.922</td>\n",
       "      <td>774.408</td>\n",
       "    </tr>\n",
       "    <tr>\n",
       "      <th>feature1</th>\n",
       "      <td>1000.000</td>\n",
       "      <td>1000.014</td>\n",
       "      <td>0.974</td>\n",
       "      <td>997.058</td>\n",
       "      <td>999.332</td>\n",
       "      <td>1000.010</td>\n",
       "      <td>1000.638</td>\n",
       "      <td>1003.208</td>\n",
       "    </tr>\n",
       "    <tr>\n",
       "      <th>feature2</th>\n",
       "      <td>1000.000</td>\n",
       "      <td>999.980</td>\n",
       "      <td>0.948</td>\n",
       "      <td>996.996</td>\n",
       "      <td>999.316</td>\n",
       "      <td>1000.002</td>\n",
       "      <td>1000.645</td>\n",
       "      <td>1002.666</td>\n",
       "    </tr>\n",
       "  </tbody>\n",
       "</table>\n",
       "</div>"
      ],
      "text/plain": [
       "            count     mean    std     min     25%      50%      75%      max\n",
       "price    1000.000  498.673 93.785 223.347 433.026  502.382  564.922  774.408\n",
       "feature1 1000.000 1000.014  0.974 997.058 999.332 1000.010 1000.638 1003.208\n",
       "feature2 1000.000  999.980  0.948 996.996 999.316 1000.002 1000.645 1002.666"
      ]
     },
     "execution_count": 17,
     "metadata": {},
     "output_type": "execute_result"
    }
   ],
   "source": [
    "df.describe().T"
   ]
  },
  {
   "cell_type": "code",
   "execution_count": 18,
   "metadata": {},
   "outputs": [
    {
     "data": {
      "image/png": "[encoded data removed]",
      "text/plain": [
       "<Figure size 750x750 with 12 Axes>"
      ]
     },
     "metadata": {},
     "output_type": "display_data"
    }
   ],
   "source": [
    "sns.pairplot(df);"
   ]
  },
  {
   "cell_type": "code",
   "execution_count": 19,
   "metadata": {},
   "outputs": [
    {
     "data": {
      "text/html": [
       "<div>\n",
       "<style scoped>\n",
       "    .dataframe tbody tr th:only-of-type {\n",
       "        vertical-align: middle;\n",
       "    }\n",
       "\n",
       "    .dataframe tbody tr th {\n",
       "        vertical-align: top;\n",
       "    }\n",
       "\n",
       "    .dataframe thead th {\n",
       "        text-align: right;\n",
       "    }\n",
       "</style>\n",
       "<table border=\"1\" class=\"dataframe\">\n",
       "  <thead>\n",
       "    <tr style=\"text-align: right;\">\n",
       "      <th></th>\n",
       "      <th>price</th>\n",
       "      <th>feature1</th>\n",
       "      <th>feature2</th>\n",
       "    </tr>\n",
       "  </thead>\n",
       "  <tbody>\n",
       "    <tr>\n",
       "      <th>price</th>\n",
       "      <td>1.000</td>\n",
       "      <td>0.444</td>\n",
       "      <td>0.908</td>\n",
       "    </tr>\n",
       "    <tr>\n",
       "      <th>feature1</th>\n",
       "      <td>0.444</td>\n",
       "      <td>1.000</td>\n",
       "      <td>0.031</td>\n",
       "    </tr>\n",
       "    <tr>\n",
       "      <th>feature2</th>\n",
       "      <td>0.908</td>\n",
       "      <td>0.031</td>\n",
       "      <td>1.000</td>\n",
       "    </tr>\n",
       "  </tbody>\n",
       "</table>\n",
       "</div>"
      ],
      "text/plain": [
       "          price  feature1  feature2\n",
       "price     1.000     0.444     0.908\n",
       "feature1  0.444     1.000     0.031\n",
       "feature2  0.908     0.031     1.000"
      ]
     },
     "execution_count": 19,
     "metadata": {},
     "output_type": "execute_result"
    }
   ],
   "source": [
    "df.corr()"
   ]
  },
  {
   "cell_type": "markdown",
   "metadata": {},
   "source": [
    "## Preprocessing of Data\n",
    "- Train | Test Split, Scalling"
   ]
  },
  {
   "cell_type": "code",
   "execution_count": 20,
   "metadata": {},
   "outputs": [],
   "source": [
    "from sklearn.model_selection import train_test_split"
   ]
  },
  {
   "cell_type": "code",
   "execution_count": 21,
   "metadata": {},
   "outputs": [],
   "source": [
    "# X = df[['feature1', 'feature2']].values  # convert to array\n",
    "# y = df['price'].values\n",
    "# normalde datalarmizin array olmasi gerekiyor. \n",
    "# biz asagida scaling yapacagimiz icin burda array a cevirmeye gerek yok. "
   ]
  },
  {
   "cell_type": "code",
   "execution_count": 22,
   "metadata": {},
   "outputs": [],
   "source": [
    "X = df[['feature1', 'feature2']] \n",
    "y = df['price']"
   ]
  },
  {
   "cell_type": "code",
   "execution_count": 23,
   "metadata": {},
   "outputs": [
    {
     "data": {
      "text/html": [
       "<div>\n",
       "<style scoped>\n",
       "    .dataframe tbody tr th:only-of-type {\n",
       "        vertical-align: middle;\n",
       "    }\n",
       "\n",
       "    .dataframe tbody tr th {\n",
       "        vertical-align: top;\n",
       "    }\n",
       "\n",
       "    .dataframe thead th {\n",
       "        text-align: right;\n",
       "    }\n",
       "</style>\n",
       "<table border=\"1\" class=\"dataframe\">\n",
       "  <thead>\n",
       "    <tr style=\"text-align: right;\">\n",
       "      <th></th>\n",
       "      <th>feature1</th>\n",
       "      <th>feature2</th>\n",
       "    </tr>\n",
       "  </thead>\n",
       "  <tbody>\n",
       "    <tr>\n",
       "      <th>0</th>\n",
       "      <td>999.788</td>\n",
       "      <td>999.766</td>\n",
       "    </tr>\n",
       "    <tr>\n",
       "      <th>1</th>\n",
       "      <td>998.862</td>\n",
       "      <td>1001.042</td>\n",
       "    </tr>\n",
       "    <tr>\n",
       "      <th>2</th>\n",
       "      <td>1000.070</td>\n",
       "      <td>998.844</td>\n",
       "    </tr>\n",
       "    <tr>\n",
       "      <th>3</th>\n",
       "      <td>999.952</td>\n",
       "      <td>1000.441</td>\n",
       "    </tr>\n",
       "    <tr>\n",
       "      <th>4</th>\n",
       "      <td>1000.446</td>\n",
       "      <td>1000.339</td>\n",
       "    </tr>\n",
       "    <tr>\n",
       "      <th>...</th>\n",
       "      <td>...</td>\n",
       "      <td>...</td>\n",
       "    </tr>\n",
       "    <tr>\n",
       "      <th>995</th>\n",
       "      <td>1000.019</td>\n",
       "      <td>999.673</td>\n",
       "    </tr>\n",
       "    <tr>\n",
       "      <th>996</th>\n",
       "      <td>998.855</td>\n",
       "      <td>1000.020</td>\n",
       "    </tr>\n",
       "    <tr>\n",
       "      <th>997</th>\n",
       "      <td>1001.452</td>\n",
       "      <td>998.848</td>\n",
       "    </tr>\n",
       "    <tr>\n",
       "      <th>998</th>\n",
       "      <td>1000.771</td>\n",
       "      <td>998.563</td>\n",
       "    </tr>\n",
       "    <tr>\n",
       "      <th>999</th>\n",
       "      <td>999.232</td>\n",
       "      <td>1001.451</td>\n",
       "    </tr>\n",
       "  </tbody>\n",
       "</table>\n",
       "<p>1000 rows × 2 columns</p>\n",
       "</div>"
      ],
      "text/plain": [
       "     feature1  feature2\n",
       "0     999.788   999.766\n",
       "1     998.862  1001.042\n",
       "2    1000.070   998.844\n",
       "3     999.952  1000.441\n",
       "4    1000.446  1000.339\n",
       "..        ...       ...\n",
       "995  1000.019   999.673\n",
       "996   998.855  1000.020\n",
       "997  1001.452   998.848\n",
       "998  1000.771   998.563\n",
       "999   999.232  1001.451\n",
       "\n",
       "[1000 rows x 2 columns]"
      ]
     },
     "execution_count": 23,
     "metadata": {},
     "output_type": "execute_result"
    }
   ],
   "source": [
    "X"
   ]
  },
  {
   "cell_type": "code",
   "execution_count": 24,
   "metadata": {},
   "outputs": [
    {
     "data": {
      "text/plain": [
       "0     461.528\n",
       "1     548.130\n",
       "2     410.297\n",
       "3     540.382\n",
       "4     546.025\n",
       "        ...  \n",
       "995   476.526\n",
       "996   457.313\n",
       "997   456.721\n",
       "998   403.316\n",
       "999   599.367\n",
       "Name: price, Length: 1000, dtype: float64"
      ]
     },
     "execution_count": 24,
     "metadata": {},
     "output_type": "execute_result"
    }
   ],
   "source": [
    "y"
   ]
  },
  {
   "cell_type": "code",
   "execution_count": 25,
   "metadata": {},
   "outputs": [],
   "source": [
    "X_train, X_test, y_train, y_test = train_test_split(X, y, test_size = 0.3, random_state = 42)"
   ]
  },
  {
   "cell_type": "code",
   "execution_count": 26,
   "metadata": {},
   "outputs": [
    {
     "data": {
      "text/plain": [
       "(700, 2)"
      ]
     },
     "execution_count": 26,
     "metadata": {},
     "output_type": "execute_result"
    }
   ],
   "source": [
    "X_train.shape"
   ]
  },
  {
   "cell_type": "code",
   "execution_count": 27,
   "metadata": {},
   "outputs": [
    {
     "data": {
      "text/plain": [
       "(300, 2)"
      ]
     },
     "execution_count": 27,
     "metadata": {},
     "output_type": "execute_result"
    }
   ],
   "source": [
    "X_test.shape"
   ]
  },
  {
   "cell_type": "code",
   "execution_count": 28,
   "metadata": {},
   "outputs": [],
   "source": [
    "from sklearn.preprocessing import MinMaxScaler"
   ]
  },
  {
   "cell_type": "code",
   "execution_count": 29,
   "metadata": {},
   "outputs": [
    {
     "name": "stdout",
     "output_type": "stream",
     "text": [
      "Help on class MinMaxScaler in module sklearn.preprocessing._data:\n",
      "\n",
      "class MinMaxScaler(sklearn.base._OneToOneFeatureMixin, sklearn.base.TransformerMixin, sklearn.base.BaseEstimator)\n",
      " |  MinMaxScaler(feature_range=(0, 1), *, copy=True, clip=False)\n",
      " |  \n",
      " |  Transform features by scaling each feature to a given range.\n",
      " |  \n",
      " |  This estimator scales and translates each feature individually such\n",
      " |  that it is in the given range on the training set, e.g. between\n",
      " |  zero and one.\n",
      " |  \n",
      " |  The transformation is given by::\n",
      " |  \n",
      " |      X_std = (X - X.min(axis=0)) / (X.max(axis=0) - X.min(axis=0))\n",
      " |      X_scaled = X_std * (max - min) + min\n",
      " |  \n",
      " |  where min, max = feature_range.\n",
      " |  \n",
      " |  This transformation is often used as an alternative to zero mean,\n",
      " |  unit variance scaling.\n",
      " |  \n",
      " |  Read more in the :ref:`User Guide <preprocessing_scaler>`.\n",
      " |  \n",
      " |  Parameters\n",
      " |  ----------\n",
      " |  feature_range : tuple (min, max), default=(0, 1)\n",
      " |      Desired range of transformed data.\n",
      " |  \n",
      " |  copy : bool, default=True\n",
      " |      Set to False to perform inplace row normalization and avoid a\n",
      " |      copy (if the input is already a numpy array).\n",
      " |  \n",
      " |  clip : bool, default=False\n",
      " |      Set to True to clip transformed values of held-out data to\n",
      " |      provided `feature range`.\n",
      " |  \n",
      " |      .. versionadded:: 0.24\n",
      " |  \n",
      " |  Attributes\n",
      " |  ----------\n",
      " |  min_ : ndarray of shape (n_features,)\n",
      " |      Per feature adjustment for minimum. Equivalent to\n",
      " |      ``min - X.min(axis=0) * self.scale_``\n",
      " |  \n",
      " |  scale_ : ndarray of shape (n_features,)\n",
      " |      Per feature relative scaling of the data. Equivalent to\n",
      " |      ``(max - min) / (X.max(axis=0) - X.min(axis=0))``\n",
      " |  \n",
      " |      .. versionadded:: 0.17\n",
      " |         *scale_* attribute.\n",
      " |  \n",
      " |  data_min_ : ndarray of shape (n_features,)\n",
      " |      Per feature minimum seen in the data\n",
      " |  \n",
      " |      .. versionadded:: 0.17\n",
      " |         *data_min_*\n",
      " |  \n",
      " |  data_max_ : ndarray of shape (n_features,)\n",
      " |      Per feature maximum seen in the data\n",
      " |  \n",
      " |      .. versionadded:: 0.17\n",
      " |         *data_max_*\n",
      " |  \n",
      " |  data_range_ : ndarray of shape (n_features,)\n",
      " |      Per feature range ``(data_max_ - data_min_)`` seen in the data\n",
      " |  \n",
      " |      .. versionadded:: 0.17\n",
      " |         *data_range_*\n",
      " |  \n",
      " |  n_features_in_ : int\n",
      " |      Number of features seen during :term:`fit`.\n",
      " |  \n",
      " |      .. versionadded:: 0.24\n",
      " |  \n",
      " |  n_samples_seen_ : int\n",
      " |      The number of samples processed by the estimator.\n",
      " |      It will be reset on new calls to fit, but increments across\n",
      " |      ``partial_fit`` calls.\n",
      " |  \n",
      " |  feature_names_in_ : ndarray of shape (`n_features_in_`,)\n",
      " |      Names of features seen during :term:`fit`. Defined only when `X`\n",
      " |      has feature names that are all strings.\n",
      " |  \n",
      " |      .. versionadded:: 1.0\n",
      " |  \n",
      " |  See Also\n",
      " |  --------\n",
      " |  minmax_scale : Equivalent function without the estimator API.\n",
      " |  \n",
      " |  Notes\n",
      " |  -----\n",
      " |  NaNs are treated as missing values: disregarded in fit, and maintained in\n",
      " |  transform.\n",
      " |  \n",
      " |  For a comparison of the different scalers, transformers, and normalizers,\n",
      " |  see :ref:`examples/preprocessing/plot_all_scaling.py\n",
      " |  <sphx_glr_auto_examples_preprocessing_plot_all_scaling.py>`.\n",
      " |  \n",
      " |  Examples\n",
      " |  --------\n",
      " |  >>> from sklearn.preprocessing import MinMaxScaler\n",
      " |  >>> data = [[-1, 2], [-0.5, 6], [0, 10], [1, 18]]\n",
      " |  >>> scaler = MinMaxScaler()\n",
      " |  >>> print(scaler.fit(data))\n",
      " |  MinMaxScaler()\n",
      " |  >>> print(scaler.data_max_)\n",
      " |  [ 1. 18.]\n",
      " |  >>> print(scaler.transform(data))\n",
      " |  [[0.   0.  ]\n",
      " |   [0.25 0.25]\n",
      " |   [0.5  0.5 ]\n",
      " |   [1.   1.  ]]\n",
      " |  >>> print(scaler.transform([[2, 2]]))\n",
      " |  [[1.5 0. ]]\n",
      " |  \n",
      " |  Method resolution order:\n",
      " |      MinMaxScaler\n",
      " |      sklearn.base._OneToOneFeatureMixin\n",
      " |      sklearn.base.TransformerMixin\n",
      " |      sklearn.base.BaseEstimator\n",
      " |      builtins.object\n",
      " |  \n",
      " |  Methods defined here:\n",
      " |  \n",
      " |  __init__(self, feature_range=(0, 1), *, copy=True, clip=False)\n",
      " |      Initialize self.  See help(type(self)) for accurate signature.\n",
      " |  \n",
      " |  fit(self, X, y=None)\n",
      " |      Compute the minimum and maximum to be used for later scaling.\n",
      " |      \n",
      " |      Parameters\n",
      " |      ----------\n",
      " |      X : array-like of shape (n_samples, n_features)\n",
      " |          The data used to compute the per-feature minimum and maximum\n",
      " |          used for later scaling along the features axis.\n",
      " |      \n",
      " |      y : None\n",
      " |          Ignored.\n",
      " |      \n",
      " |      Returns\n",
      " |      -------\n",
      " |      self : object\n",
      " |          Fitted scaler.\n",
      " |  \n",
      " |  inverse_transform(self, X)\n",
      " |      Undo the scaling of X according to feature_range.\n",
      " |      \n",
      " |      Parameters\n",
      " |      ----------\n",
      " |      X : array-like of shape (n_samples, n_features)\n",
      " |          Input data that will be transformed. It cannot be sparse.\n",
      " |      \n",
      " |      Returns\n",
      " |      -------\n",
      " |      Xt : ndarray of shape (n_samples, n_features)\n",
      " |          Transformed data.\n",
      " |  \n",
      " |  partial_fit(self, X, y=None)\n",
      " |      Online computation of min and max on X for later scaling.\n",
      " |      \n",
      " |      All of X is processed as a single batch. This is intended for cases\n",
      " |      when :meth:`fit` is not feasible due to very large number of\n",
      " |      `n_samples` or because X is read from a continuous stream.\n",
      " |      \n",
      " |      Parameters\n",
      " |      ----------\n",
      " |      X : array-like of shape (n_samples, n_features)\n",
      " |          The data used to compute the mean and standard deviation\n",
      " |          used for later scaling along the features axis.\n",
      " |      \n",
      " |      y : None\n",
      " |          Ignored.\n",
      " |      \n",
      " |      Returns\n",
      " |      -------\n",
      " |      self : object\n",
      " |          Fitted scaler.\n",
      " |  \n",
      " |  transform(self, X)\n",
      " |      Scale features of X according to feature_range.\n",
      " |      \n",
      " |      Parameters\n",
      " |      ----------\n",
      " |      X : array-like of shape (n_samples, n_features)\n",
      " |          Input data that will be transformed.\n",
      " |      \n",
      " |      Returns\n",
      " |      -------\n",
      " |      Xt : ndarray of shape (n_samples, n_features)\n",
      " |          Transformed data.\n",
      " |  \n",
      " |  ----------------------------------------------------------------------\n",
      " |  Methods inherited from sklearn.base._OneToOneFeatureMixin:\n",
      " |  \n",
      " |  get_feature_names_out(self, input_features=None)\n",
      " |      Get output feature names for transformation.\n",
      " |      \n",
      " |      Parameters\n",
      " |      ----------\n",
      " |      input_features : array-like of str or None, default=None\n",
      " |          Input features.\n",
      " |      \n",
      " |          - If `input_features` is `None`, then `feature_names_in_` is\n",
      " |            used as feature names in. If `feature_names_in_` is not defined,\n",
      " |            then the following input feature names are generated:\n",
      " |            `[\"x0\", \"x1\", ..., \"x(n_features_in_ - 1)\"]`.\n",
      " |          - If `input_features` is an array-like, then `input_features` must\n",
      " |            match `feature_names_in_` if `feature_names_in_` is defined.\n",
      " |      \n",
      " |      Returns\n",
      " |      -------\n",
      " |      feature_names_out : ndarray of str objects\n",
      " |          Same as input features.\n",
      " |  \n",
      " |  ----------------------------------------------------------------------\n",
      " |  Data descriptors inherited from sklearn.base._OneToOneFeatureMixin:\n",
      " |  \n",
      " |  __dict__\n",
      " |      dictionary for instance variables (if defined)\n",
      " |  \n",
      " |  __weakref__\n",
      " |      list of weak references to the object (if defined)\n",
      " |  \n",
      " |  ----------------------------------------------------------------------\n",
      " |  Methods inherited from sklearn.base.TransformerMixin:\n",
      " |  \n",
      " |  fit_transform(self, X, y=None, **fit_params)\n",
      " |      Fit to data, then transform it.\n",
      " |      \n",
      " |      Fits transformer to `X` and `y` with optional parameters `fit_params`\n",
      " |      and returns a transformed version of `X`.\n",
      " |      \n",
      " |      Parameters\n",
      " |      ----------\n",
      " |      X : array-like of shape (n_samples, n_features)\n",
      " |          Input samples.\n",
      " |      \n",
      " |      y :  array-like of shape (n_samples,) or (n_samples, n_outputs),                 default=None\n",
      " |          Target values (None for unsupervised transformations).\n",
      " |      \n",
      " |      **fit_params : dict\n",
      " |          Additional fit parameters.\n",
      " |      \n",
      " |      Returns\n",
      " |      -------\n",
      " |      X_new : ndarray array of shape (n_samples, n_features_new)\n",
      " |          Transformed array.\n",
      " |  \n",
      " |  ----------------------------------------------------------------------\n",
      " |  Methods inherited from sklearn.base.BaseEstimator:\n",
      " |  \n",
      " |  __getstate__(self)\n",
      " |  \n",
      " |  __repr__(self, N_CHAR_MAX=700)\n",
      " |      Return repr(self).\n",
      " |  \n",
      " |  __setstate__(self, state)\n",
      " |  \n",
      " |  get_params(self, deep=True)\n",
      " |      Get parameters for this estimator.\n",
      " |      \n",
      " |      Parameters\n",
      " |      ----------\n",
      " |      deep : bool, default=True\n",
      " |          If True, will return the parameters for this estimator and\n",
      " |          contained subobjects that are estimators.\n",
      " |      \n",
      " |      Returns\n",
      " |      -------\n",
      " |      params : dict\n",
      " |          Parameter names mapped to their values.\n",
      " |  \n",
      " |  set_params(self, **params)\n",
      " |      Set the parameters of this estimator.\n",
      " |      \n",
      " |      The method works on simple estimators as well as on nested objects\n",
      " |      (such as :class:`~sklearn.pipeline.Pipeline`). The latter have\n",
      " |      parameters of the form ``<component>__<parameter>`` so that it's\n",
      " |      possible to update each component of a nested object.\n",
      " |      \n",
      " |      Parameters\n",
      " |      ----------\n",
      " |      **params : dict\n",
      " |          Estimator parameters.\n",
      " |      \n",
      " |      Returns\n",
      " |      -------\n",
      " |      self : estimator instance\n",
      " |          Estimator instance.\n",
      "\n"
     ]
    }
   ],
   "source": [
    "help(MinMaxScaler)"
   ]
  },
  {
   "cell_type": "code",
   "execution_count": 30,
   "metadata": {},
   "outputs": [],
   "source": [
    "scaler = MinMaxScaler()"
   ]
  },
  {
   "cell_type": "code",
   "execution_count": 31,
   "metadata": {},
   "outputs": [],
   "source": [
    "scaler.fit(X_train)\n",
    "X_train = scaler.transform(X_train)\n",
    "X_test = scaler.transform(X_test)"
   ]
  },
  {
   "cell_type": "markdown",
   "metadata": {},
   "source": [
    "## Modelling"
   ]
  },
  {
   "cell_type": "code",
   "execution_count": 32,
   "metadata": {},
   "outputs": [],
   "source": [
    "import tensorflow as tf"
   ]
  },
  {
   "cell_type": "code",
   "execution_count": 33,
   "metadata": {},
   "outputs": [],
   "source": [
    "from tensorflow.keras.models import Sequential\n",
    "from tensorflow.keras.layers import Input,Dense, Activation"
   ]
  },
  {
   "cell_type": "code",
   "execution_count": 34,
   "metadata": {},
   "outputs": [],
   "source": [
    "# help(Sequential)"
   ]
  },
  {
   "cell_type": "code",
   "execution_count": 35,
   "metadata": {},
   "outputs": [],
   "source": [
    "# help(Dense)"
   ]
  },
  {
   "cell_type": "code",
   "execution_count": 36,
   "metadata": {},
   "outputs": [
    {
     "data": {
      "text/plain": [
       "(700, 2)"
      ]
     },
     "execution_count": 36,
     "metadata": {},
     "output_type": "execute_result"
    }
   ],
   "source": [
    "X_train.shape"
   ]
  },
  {
   "cell_type": "code",
   "execution_count": 37,
   "metadata": {},
   "outputs": [],
   "source": [
    "# First way to create model\n",
    "# iki farkli yol var bu birinci yol. ikinci yol asagida.\n",
    "# dense layer ekle demek. \n",
    "# units : layerdaki neron sayisini veriyor.\n",
    "model = Sequential([Input(shape = X_train.shape[1]),# gris layer\n",
    "                    Dense(units = 4, activation = \"relu\"), #  birinci hidden layer, 4 neronlu, activation func: relu\n",
    "                    Dense(units = 4, activation = \"relu\"), # ikinci hidden layer, 4 neronlu, af : relu\n",
    "                    Dense(units = 4, activation = \"relu\"), # ucuncu hidden layer, 4 neron, af: relu\n",
    "                    Dense(units = 1)]) # cikis layer, 1 neron, af: linear (default oldugu icin yazilmadi)"
   ]
  },
  {
   "cell_type": "code",
   "execution_count": 38,
   "metadata": {},
   "outputs": [],
   "source": [
    "# Second way to create model (recommended)\n",
    "# en cok bu yolu tercih edecegiz. \n",
    "model = Sequential()\n",
    "#model.add(Input(shape = X_train.shape[1]))\n",
    "model.add(Dense(units = 4, activation = \"relu\", input_dim = X_train.shape[1]))\n",
    "model.add(Dense(units = 4, activation = \"relu\"))\n",
    "model.add(Dense(units = 4, activation = \"relu\"))\n",
    "model.add(Dense(units = 1))"
   ]
  },
  {
   "cell_type": "code",
   "execution_count": 39,
   "metadata": {},
   "outputs": [
    {
     "name": "stdout",
     "output_type": "stream",
     "text": [
      "Model: \"sequential_1\"\n",
      "_________________________________________________________________\n",
      " Layer (type)                Output Shape              Param #   \n",
      "=================================================================\n",
      " dense_4 (Dense)             (None, 4)                 12        \n",
      "                                                                 \n",
      " dense_5 (Dense)             (None, 4)                 20        \n",
      "                                                                 \n",
      " dense_6 (Dense)             (None, 4)                 20        \n",
      "                                                                 \n",
      " dense_7 (Dense)             (None, 1)                 5         \n",
      "                                                                 \n",
      "=================================================================\n",
      "Total params: 57\n",
      "Trainable params: 57\n",
      "Non-trainable params: 0\n",
      "_________________________________________________________________\n"
     ]
    }
   ],
   "source": [
    "model.summary() # none batch size ile alakali. "
   ]
  },
  {
   "cell_type": "code",
   "execution_count": 40,
   "metadata": {},
   "outputs": [
    {
     "data": {
      "text/plain": [
       "[<tf.Variable 'dense_4/kernel:0' shape=(2, 4) dtype=float32, numpy=\n",
       " array([[ 0.40727615,  0.5911591 , -0.9557426 , -0.90449166],\n",
       "        [-0.05171061, -0.8142786 ,  0.652668  , -0.9434526 ]],\n",
       "       dtype=float32)>,\n",
       " <tf.Variable 'dense_4/bias:0' shape=(4,) dtype=float32, numpy=array([0., 0., 0., 0.], dtype=float32)>,\n",
       " <tf.Variable 'dense_5/kernel:0' shape=(4, 4) dtype=float32, numpy=\n",
       " array([[ 0.5900187 ,  0.4565392 ,  0.5653061 ,  0.38728458],\n",
       "        [ 0.686498  , -0.8271209 ,  0.7150697 , -0.30473357],\n",
       "        [-0.6784831 ,  0.75097233, -0.3098932 ,  0.68600184],\n",
       "        [-0.06727767,  0.86259764,  0.27592593,  0.6803561 ]],\n",
       "       dtype=float32)>,\n",
       " <tf.Variable 'dense_5/bias:0' shape=(4,) dtype=float32, numpy=array([0., 0., 0., 0.], dtype=float32)>,\n",
       " <tf.Variable 'dense_6/kernel:0' shape=(4, 4) dtype=float32, numpy=\n",
       " array([[ 0.5092632 , -0.8058965 ,  0.6693042 ,  0.37700135],\n",
       "        [-0.37084922, -0.00556558,  0.31510752,  0.5981805 ],\n",
       "        [-0.8369925 ,  0.84372014, -0.03310359, -0.5609807 ],\n",
       "        [-0.24845093,  0.02696645,  0.5757951 ,  0.18949217]],\n",
       "       dtype=float32)>,\n",
       " <tf.Variable 'dense_6/bias:0' shape=(4,) dtype=float32, numpy=array([0., 0., 0., 0.], dtype=float32)>,\n",
       " <tf.Variable 'dense_7/kernel:0' shape=(4, 1) dtype=float32, numpy=\n",
       " array([[-0.63951105],\n",
       "        [ 0.5333139 ],\n",
       "        [-0.30083358],\n",
       "        [ 1.0108149 ]], dtype=float32)>,\n",
       " <tf.Variable 'dense_7/bias:0' shape=(1,) dtype=float32, numpy=array([0.], dtype=float32)>]"
      ]
     },
     "execution_count": 40,
     "metadata": {},
     "output_type": "execute_result"
    }
   ],
   "source": [
    "model.weights"
   ]
  },
  {
   "cell_type": "markdown",
   "metadata": {},
   "source": [
    "### Choosing an optimizer and loss\n",
    "\n",
    "Keep in mind what kind of problem you are trying to solve:\n",
    "\n",
    "    # For a multi-class classification problem\n",
    "    model.compile(optimizer='rmsprop',\n",
    "                  loss='categorical_crossentropy',\n",
    "                  metrics=['accuracy'])\n",
    "\n",
    "    # For a binary classification problem\n",
    "    model.compile(optimizer='rmsprop',\n",
    "                  loss='binary_crossentropy',\n",
    "                  metrics=['accuracy'])\n",
    "\n",
    "    # For a mean squared error regression problem\n",
    "    model.compile(optimizer='rmsprop',\n",
    "                  loss='mse')"
   ]
  },
  {
   "cell_type": "code",
   "execution_count": 41,
   "metadata": {},
   "outputs": [],
   "source": [
    "model.compile(optimizer = \"rmsprop\", loss = \"mse\")"
   ]
  },
  {
   "cell_type": "code",
   "execution_count": 42,
   "metadata": {},
   "outputs": [
    {
     "name": "stdout",
     "output_type": "stream",
     "text": [
      "Epoch 1/250\n",
      "22/22 [==============================] - 1s 2ms/step - loss: 256615.4219\n",
      "Epoch 2/250\n",
      "22/22 [==============================] - 0s 2ms/step - loss: 256447.2500\n",
      "Epoch 3/250\n",
      "22/22 [==============================] - 0s 2ms/step - loss: 256260.6562\n",
      "Epoch 4/250\n",
      "22/22 [==============================] - 0s 1ms/step - loss: 256038.5156\n",
      "Epoch 5/250\n",
      "22/22 [==============================] - 0s 2ms/step - loss: 255780.4531\n",
      "Epoch 6/250\n",
      "22/22 [==============================] - 0s 2ms/step - loss: 255479.4219\n",
      "Epoch 7/250\n",
      "22/22 [==============================] - 0s 2ms/step - loss: 255127.8906\n",
      "Epoch 8/250\n",
      "22/22 [==============================] - 0s 1ms/step - loss: 254723.0156\n",
      "Epoch 9/250\n",
      "22/22 [==============================] - 0s 1ms/step - loss: 254263.5156\n",
      "Epoch 10/250\n",
      "22/22 [==============================] - 0s 1ms/step - loss: 253742.4844\n",
      "Epoch 11/250\n",
      "22/22 [==============================] - 0s 1ms/step - loss: 253154.6094\n",
      "Epoch 12/250\n",
      "22/22 [==============================] - 0s 1ms/step - loss: 252497.8750\n",
      "Epoch 13/250\n",
      "22/22 [==============================] - 0s 1ms/step - loss: 251761.4219\n",
      "Epoch 14/250\n",
      "22/22 [==============================] - 0s 1ms/step - loss: 250950.0312\n",
      "Epoch 15/250\n",
      "22/22 [==============================] - 0s 2ms/step - loss: 250052.2812\n",
      "Epoch 16/250\n",
      "22/22 [==============================] - 0s 1ms/step - loss: 249049.9688\n",
      "Epoch 17/250\n",
      "22/22 [==============================] - 0s 1ms/step - loss: 247944.5781\n",
      "Epoch 18/250\n",
      "22/22 [==============================] - 0s 1ms/step - loss: 246725.7812\n",
      "Epoch 19/250\n",
      "22/22 [==============================] - 0s 1ms/step - loss: 245370.4688\n",
      "Epoch 20/250\n",
      "22/22 [==============================] - 0s 1ms/step - loss: 243898.5625\n",
      "Epoch 21/250\n",
      "22/22 [==============================] - 0s 1ms/step - loss: 242282.1875\n",
      "Epoch 22/250\n",
      "22/22 [==============================] - 0s 1ms/step - loss: 240516.4062\n",
      "Epoch 23/250\n",
      "22/22 [==============================] - 0s 1ms/step - loss: 238601.3750\n",
      "Epoch 24/250\n",
      "22/22 [==============================] - 0s 1ms/step - loss: 236521.7188\n",
      "Epoch 25/250\n",
      "22/22 [==============================] - 0s 2ms/step - loss: 234273.0469\n",
      "Epoch 26/250\n",
      "22/22 [==============================] - 0s 2ms/step - loss: 231869.5156\n",
      "Epoch 27/250\n",
      "22/22 [==============================] - 0s 2ms/step - loss: 229270.6250\n",
      "Epoch 28/250\n",
      "22/22 [==============================] - 0s 1ms/step - loss: 226480.0938\n",
      "Epoch 29/250\n",
      "22/22 [==============================] - 0s 1ms/step - loss: 223493.6250\n",
      "Epoch 30/250\n",
      "22/22 [==============================] - 0s 1ms/step - loss: 220309.0781\n",
      "Epoch 31/250\n",
      "22/22 [==============================] - 0s 1ms/step - loss: 216923.4688\n",
      "Epoch 32/250\n",
      "22/22 [==============================] - 0s 1ms/step - loss: 213304.4062\n",
      "Epoch 33/250\n",
      "22/22 [==============================] - 0s 994us/step - loss: 209463.2500\n",
      "Epoch 34/250\n",
      "22/22 [==============================] - 0s 1ms/step - loss: 205371.5938\n",
      "Epoch 35/250\n",
      "22/22 [==============================] - 0s 987us/step - loss: 201024.2344\n",
      "Epoch 36/250\n",
      "22/22 [==============================] - 0s 866us/step - loss: 196418.3281\n",
      "Epoch 37/250\n",
      "22/22 [==============================] - 0s 1ms/step - loss: 191542.5000\n",
      "Epoch 38/250\n",
      "22/22 [==============================] - 0s 930us/step - loss: 186378.7656\n",
      "Epoch 39/250\n",
      "22/22 [==============================] - 0s 1ms/step - loss: 180911.1562\n",
      "Epoch 40/250\n",
      "22/22 [==============================] - 0s 1ms/step - loss: 175180.9062\n",
      "Epoch 41/250\n",
      "22/22 [==============================] - 0s 903us/step - loss: 169149.3906\n",
      "Epoch 42/250\n",
      "22/22 [==============================] - 0s 953us/step - loss: 162833.1250\n",
      "Epoch 43/250\n",
      "22/22 [==============================] - 0s 1ms/step - loss: 156284.6250\n",
      "Epoch 44/250\n",
      "22/22 [==============================] - 0s 1ms/step - loss: 149529.5469\n",
      "Epoch 45/250\n",
      "22/22 [==============================] - 0s 1ms/step - loss: 142522.2656\n",
      "Epoch 46/250\n",
      "22/22 [==============================] - 0s 2ms/step - loss: 135265.7969\n",
      "Epoch 47/250\n",
      "22/22 [==============================] - 0s 1ms/step - loss: 127827.3516\n",
      "Epoch 48/250\n",
      "22/22 [==============================] - 0s 1ms/step - loss: 120218.9688\n",
      "Epoch 49/250\n",
      "22/22 [==============================] - 0s 1ms/step - loss: 112428.1250\n",
      "Epoch 50/250\n",
      "22/22 [==============================] - 0s 1ms/step - loss: 104517.2891\n",
      "Epoch 51/250\n",
      "22/22 [==============================] - 0s 1ms/step - loss: 96504.0938\n",
      "Epoch 52/250\n",
      "22/22 [==============================] - 0s 1ms/step - loss: 88456.7422\n",
      "Epoch 53/250\n",
      "22/22 [==============================] - 0s 1ms/step - loss: 80374.6953\n",
      "Epoch 54/250\n",
      "22/22 [==============================] - 0s 2ms/step - loss: 72397.7969\n",
      "Epoch 55/250\n",
      "22/22 [==============================] - 0s 1ms/step - loss: 64458.9961\n",
      "Epoch 56/250\n",
      "22/22 [==============================] - 0s 1ms/step - loss: 56671.4961\n",
      "Epoch 57/250\n",
      "22/22 [==============================] - 0s 1ms/step - loss: 49078.9297\n",
      "Epoch 58/250\n",
      "22/22 [==============================] - 0s 1ms/step - loss: 41820.6719\n",
      "Epoch 59/250\n",
      "22/22 [==============================] - 0s 1ms/step - loss: 34823.9531\n",
      "Epoch 60/250\n",
      "22/22 [==============================] - 0s 1ms/step - loss: 28348.6113\n",
      "Epoch 61/250\n",
      "22/22 [==============================] - 0s 1ms/step - loss: 22392.3223\n",
      "Epoch 62/250\n",
      "22/22 [==============================] - 0s 2ms/step - loss: 17048.1309\n",
      "Epoch 63/250\n",
      "22/22 [==============================] - 0s 2ms/step - loss: 12414.6426\n",
      "Epoch 64/250\n",
      "22/22 [==============================] - 0s 1ms/step - loss: 8557.0303\n",
      "Epoch 65/250\n",
      "22/22 [==============================] - 0s 1ms/step - loss: 5625.9580\n",
      "Epoch 66/250\n",
      "22/22 [==============================] - 0s 1ms/step - loss: 3643.1877\n",
      "Epoch 67/250\n",
      "22/22 [==============================] - 0s 1ms/step - loss: 2595.1206\n",
      "Epoch 68/250\n",
      "22/22 [==============================] - 0s 1ms/step - loss: 2218.8149\n",
      "Epoch 69/250\n",
      "22/22 [==============================] - 0s 2ms/step - loss: 2140.5994\n",
      "Epoch 70/250\n",
      "22/22 [==============================] - 0s 1ms/step - loss: 2095.3896\n",
      "Epoch 71/250\n",
      "22/22 [==============================] - 0s 1ms/step - loss: 2045.1821\n",
      "Epoch 72/250\n",
      "22/22 [==============================] - 0s 2ms/step - loss: 1991.2689\n",
      "Epoch 73/250\n",
      "22/22 [==============================] - 0s 2ms/step - loss: 1940.6880\n",
      "Epoch 74/250\n",
      "22/22 [==============================] - 0s 1ms/step - loss: 1891.6587\n",
      "Epoch 75/250\n",
      "22/22 [==============================] - 0s 1ms/step - loss: 1835.9938\n",
      "Epoch 76/250\n",
      "22/22 [==============================] - 0s 2ms/step - loss: 1782.9084\n",
      "Epoch 77/250\n",
      "22/22 [==============================] - 0s 2ms/step - loss: 1746.5208\n",
      "Epoch 78/250\n",
      "22/22 [==============================] - 0s 1ms/step - loss: 1694.9464\n",
      "Epoch 79/250\n",
      "22/22 [==============================] - 0s 1ms/step - loss: 1656.6732\n",
      "Epoch 80/250\n",
      "22/22 [==============================] - 0s 2ms/step - loss: 1604.8361\n",
      "Epoch 81/250\n",
      "22/22 [==============================] - 0s 1ms/step - loss: 1560.3213\n",
      "Epoch 82/250\n",
      "22/22 [==============================] - 0s 1ms/step - loss: 1514.8186\n",
      "Epoch 83/250\n",
      "22/22 [==============================] - 0s 1ms/step - loss: 1470.0138\n",
      "Epoch 84/250\n",
      "22/22 [==============================] - 0s 1ms/step - loss: 1433.5999\n",
      "Epoch 85/250\n",
      "22/22 [==============================] - 0s 938us/step - loss: 1390.2109\n",
      "Epoch 86/250\n",
      "22/22 [==============================] - 0s 1ms/step - loss: 1348.6821\n",
      "Epoch 87/250\n",
      "22/22 [==============================] - 0s 1ms/step - loss: 1304.8151\n",
      "Epoch 88/250\n",
      "22/22 [==============================] - 0s 1ms/step - loss: 1262.9712\n",
      "Epoch 89/250\n",
      "22/22 [==============================] - 0s 987us/step - loss: 1224.2140\n",
      "Epoch 90/250\n",
      "22/22 [==============================] - 0s 1ms/step - loss: 1191.3263\n",
      "Epoch 91/250\n",
      "22/22 [==============================] - 0s 1ms/step - loss: 1149.7147\n",
      "Epoch 92/250\n",
      "22/22 [==============================] - 0s 2ms/step - loss: 1113.1447\n",
      "Epoch 93/250\n",
      "22/22 [==============================] - 0s 1ms/step - loss: 1070.2854\n",
      "Epoch 94/250\n",
      "22/22 [==============================] - 0s 2ms/step - loss: 1027.2269\n",
      "Epoch 95/250\n",
      "22/22 [==============================] - 0s 1ms/step - loss: 987.7877\n",
      "Epoch 96/250\n",
      "22/22 [==============================] - 0s 2ms/step - loss: 948.8344\n",
      "Epoch 97/250\n"
     ]
    },
    {
     "name": "stdout",
     "output_type": "stream",
     "text": [
      "22/22 [==============================] - 0s 1ms/step - loss: 907.0874\n",
      "Epoch 98/250\n",
      "22/22 [==============================] - 0s 2ms/step - loss: 872.5027\n",
      "Epoch 99/250\n",
      "22/22 [==============================] - 0s 2ms/step - loss: 836.0793\n",
      "Epoch 100/250\n",
      "22/22 [==============================] - 0s 2ms/step - loss: 798.5613\n",
      "Epoch 101/250\n",
      "22/22 [==============================] - 0s 2ms/step - loss: 769.9961\n",
      "Epoch 102/250\n",
      "22/22 [==============================] - 0s 2ms/step - loss: 733.1057\n",
      "Epoch 103/250\n",
      "22/22 [==============================] - 0s 1ms/step - loss: 712.7831\n",
      "Epoch 104/250\n",
      "22/22 [==============================] - 0s 1ms/step - loss: 678.7233\n",
      "Epoch 105/250\n",
      "22/22 [==============================] - 0s 1ms/step - loss: 645.7929\n",
      "Epoch 106/250\n",
      "22/22 [==============================] - 0s 2ms/step - loss: 616.5596\n",
      "Epoch 107/250\n",
      "22/22 [==============================] - 0s 1ms/step - loss: 587.8272\n",
      "Epoch 108/250\n",
      "22/22 [==============================] - 0s 2ms/step - loss: 561.8535\n",
      "Epoch 109/250\n",
      "22/22 [==============================] - 0s 1ms/step - loss: 533.3419\n",
      "Epoch 110/250\n",
      "22/22 [==============================] - 0s 2ms/step - loss: 506.9079\n",
      "Epoch 111/250\n",
      "22/22 [==============================] - 0s 2ms/step - loss: 482.5921\n",
      "Epoch 112/250\n",
      "22/22 [==============================] - 0s 2ms/step - loss: 460.3606\n",
      "Epoch 113/250\n",
      "22/22 [==============================] - 0s 1ms/step - loss: 433.3595\n",
      "Epoch 114/250\n",
      "22/22 [==============================] - 0s 1ms/step - loss: 408.5367\n",
      "Epoch 115/250\n",
      "22/22 [==============================] - 0s 1ms/step - loss: 384.8127\n",
      "Epoch 116/250\n",
      "22/22 [==============================] - 0s 1ms/step - loss: 362.7014\n",
      "Epoch 117/250\n",
      "22/22 [==============================] - 0s 1ms/step - loss: 342.3899\n",
      "Epoch 118/250\n",
      "22/22 [==============================] - 0s 2ms/step - loss: 319.1353\n",
      "Epoch 119/250\n",
      "22/22 [==============================] - 0s 1ms/step - loss: 297.6545\n",
      "Epoch 120/250\n",
      "22/22 [==============================] - 0s 1ms/step - loss: 281.4517\n",
      "Epoch 121/250\n",
      "22/22 [==============================] - 0s 2ms/step - loss: 261.1364\n",
      "Epoch 122/250\n",
      "22/22 [==============================] - 0s 1ms/step - loss: 242.2865\n",
      "Epoch 123/250\n",
      "22/22 [==============================] - 0s 1ms/step - loss: 221.7289\n",
      "Epoch 124/250\n",
      "22/22 [==============================] - 0s 2ms/step - loss: 205.5097\n",
      "Epoch 125/250\n",
      "22/22 [==============================] - 0s 1ms/step - loss: 192.4120\n",
      "Epoch 126/250\n",
      "22/22 [==============================] - 0s 1ms/step - loss: 177.7627\n",
      "Epoch 127/250\n",
      "22/22 [==============================] - 0s 1ms/step - loss: 162.9787\n",
      "Epoch 128/250\n",
      "22/22 [==============================] - 0s 1ms/step - loss: 150.5843\n",
      "Epoch 129/250\n",
      "22/22 [==============================] - 0s 2ms/step - loss: 137.9950\n",
      "Epoch 130/250\n",
      "22/22 [==============================] - 0s 2ms/step - loss: 125.1467\n",
      "Epoch 131/250\n",
      "22/22 [==============================] - 0s 2ms/step - loss: 114.2707\n",
      "Epoch 132/250\n",
      "22/22 [==============================] - 0s 1ms/step - loss: 103.8095\n",
      "Epoch 133/250\n",
      "22/22 [==============================] - 0s 1ms/step - loss: 93.1325\n",
      "Epoch 134/250\n",
      "22/22 [==============================] - 0s 1ms/step - loss: 84.2011\n",
      "Epoch 135/250\n",
      "22/22 [==============================] - 0s 2ms/step - loss: 75.1721\n",
      "Epoch 136/250\n",
      "22/22 [==============================] - 0s 1ms/step - loss: 68.0369\n",
      "Epoch 137/250\n",
      "22/22 [==============================] - 0s 1ms/step - loss: 60.9477\n",
      "Epoch 138/250\n",
      "22/22 [==============================] - 0s 1ms/step - loss: 54.4932\n",
      "Epoch 139/250\n",
      "22/22 [==============================] - 0s 1ms/step - loss: 49.7336\n",
      "Epoch 140/250\n",
      "22/22 [==============================] - 0s 1ms/step - loss: 44.5549\n",
      "Epoch 141/250\n",
      "22/22 [==============================] - 0s 1ms/step - loss: 39.9836\n",
      "Epoch 142/250\n",
      "22/22 [==============================] - 0s 1ms/step - loss: 37.1553\n",
      "Epoch 143/250\n",
      "22/22 [==============================] - 0s 1ms/step - loss: 34.3209\n",
      "Epoch 144/250\n",
      "22/22 [==============================] - 0s 1ms/step - loss: 32.3534\n",
      "Epoch 145/250\n",
      "22/22 [==============================] - 0s 984us/step - loss: 30.1361\n",
      "Epoch 146/250\n",
      "22/22 [==============================] - 0s 1ms/step - loss: 28.5501\n",
      "Epoch 147/250\n",
      "22/22 [==============================] - 0s 1ms/step - loss: 28.1335\n",
      "Epoch 148/250\n",
      "22/22 [==============================] - 0s 1ms/step - loss: 26.9877\n",
      "Epoch 149/250\n",
      "22/22 [==============================] - 0s 1ms/step - loss: 26.3616\n",
      "Epoch 150/250\n",
      "22/22 [==============================] - 0s 1ms/step - loss: 25.5551\n",
      "Epoch 151/250\n",
      "22/22 [==============================] - 0s 2ms/step - loss: 25.9797\n",
      "Epoch 152/250\n",
      "22/22 [==============================] - 0s 1ms/step - loss: 25.2363\n",
      "Epoch 153/250\n",
      "22/22 [==============================] - 0s 1ms/step - loss: 25.2978\n",
      "Epoch 154/250\n",
      "22/22 [==============================] - 0s 1ms/step - loss: 24.6992\n",
      "Epoch 155/250\n",
      "22/22 [==============================] - 0s 1ms/step - loss: 25.0315\n",
      "Epoch 156/250\n",
      "22/22 [==============================] - 0s 1ms/step - loss: 24.9880\n",
      "Epoch 157/250\n",
      "22/22 [==============================] - 0s 1ms/step - loss: 25.3220\n",
      "Epoch 158/250\n",
      "22/22 [==============================] - 0s 1ms/step - loss: 24.8435\n",
      "Epoch 159/250\n",
      "22/22 [==============================] - 0s 1ms/step - loss: 24.6898\n",
      "Epoch 160/250\n",
      "22/22 [==============================] - 0s 1ms/step - loss: 24.8263\n",
      "Epoch 161/250\n",
      "22/22 [==============================] - 0s 2ms/step - loss: 24.5533\n",
      "Epoch 162/250\n",
      "22/22 [==============================] - 0s 1ms/step - loss: 24.6252\n",
      "Epoch 163/250\n",
      "22/22 [==============================] - 0s 948us/step - loss: 24.2698\n",
      "Epoch 164/250\n",
      "22/22 [==============================] - 0s 1ms/step - loss: 24.2945\n",
      "Epoch 165/250\n",
      "22/22 [==============================] - 0s 1ms/step - loss: 24.6041\n",
      "Epoch 166/250\n",
      "22/22 [==============================] - 0s 1ms/step - loss: 24.5551\n",
      "Epoch 167/250\n",
      "22/22 [==============================] - 0s 927us/step - loss: 24.1340\n",
      "Epoch 168/250\n",
      "22/22 [==============================] - 0s 924us/step - loss: 24.4538\n",
      "Epoch 169/250\n",
      "22/22 [==============================] - 0s 1ms/step - loss: 24.6278\n",
      "Epoch 170/250\n",
      "22/22 [==============================] - 0s 1ms/step - loss: 24.4738\n",
      "Epoch 171/250\n",
      "22/22 [==============================] - 0s 899us/step - loss: 24.7615\n",
      "Epoch 172/250\n",
      "22/22 [==============================] - 0s 1ms/step - loss: 24.5750\n",
      "Epoch 173/250\n",
      "22/22 [==============================] - 0s 954us/step - loss: 24.5412\n",
      "Epoch 174/250\n",
      "22/22 [==============================] - 0s 1ms/step - loss: 24.3690\n",
      "Epoch 175/250\n",
      "22/22 [==============================] - 0s 1ms/step - loss: 24.2618\n",
      "Epoch 176/250\n",
      "22/22 [==============================] - 0s 984us/step - loss: 24.1564\n",
      "Epoch 177/250\n",
      "22/22 [==============================] - 0s 1ms/step - loss: 24.9807\n",
      "Epoch 178/250\n",
      "22/22 [==============================] - 0s 914us/step - loss: 24.9976\n",
      "Epoch 179/250\n",
      "22/22 [==============================] - 0s 911us/step - loss: 24.7450\n",
      "Epoch 180/250\n",
      "22/22 [==============================] - 0s 827us/step - loss: 24.4365\n",
      "Epoch 181/250\n",
      "22/22 [==============================] - 0s 1ms/step - loss: 24.8437\n",
      "Epoch 182/250\n",
      "22/22 [==============================] - 0s 1ms/step - loss: 24.4541\n",
      "Epoch 183/250\n",
      "22/22 [==============================] - 0s 1ms/step - loss: 24.4069\n",
      "Epoch 184/250\n",
      "22/22 [==============================] - 0s 1ms/step - loss: 24.3673\n",
      "Epoch 185/250\n",
      "22/22 [==============================] - 0s 1ms/step - loss: 24.8570\n",
      "Epoch 186/250\n",
      "22/22 [==============================] - 0s 1ms/step - loss: 24.5337\n",
      "Epoch 187/250\n",
      "22/22 [==============================] - 0s 1ms/step - loss: 24.5426\n",
      "Epoch 188/250\n",
      "22/22 [==============================] - 0s 1ms/step - loss: 24.5290\n",
      "Epoch 189/250\n",
      "22/22 [==============================] - 0s 1ms/step - loss: 24.2521\n",
      "Epoch 190/250\n",
      "22/22 [==============================] - 0s 1ms/step - loss: 24.4829\n",
      "Epoch 191/250\n",
      "22/22 [==============================] - 0s 1ms/step - loss: 24.7806\n",
      "Epoch 192/250\n",
      "22/22 [==============================] - 0s 1ms/step - loss: 24.5031\n",
      "Epoch 193/250\n",
      "22/22 [==============================] - 0s 2ms/step - loss: 24.6370\n",
      "Epoch 194/250\n",
      "22/22 [==============================] - 0s 1ms/step - loss: 24.6140\n",
      "Epoch 195/250\n"
     ]
    },
    {
     "name": "stdout",
     "output_type": "stream",
     "text": [
      "22/22 [==============================] - 0s 1ms/step - loss: 24.4830\n",
      "Epoch 196/250\n",
      "22/22 [==============================] - 0s 1ms/step - loss: 24.5057\n",
      "Epoch 197/250\n",
      "22/22 [==============================] - 0s 1ms/step - loss: 24.5665\n",
      "Epoch 198/250\n",
      "22/22 [==============================] - 0s 1ms/step - loss: 23.8721\n",
      "Epoch 199/250\n",
      "22/22 [==============================] - 0s 1ms/step - loss: 24.1607\n",
      "Epoch 200/250\n",
      "22/22 [==============================] - 0s 1ms/step - loss: 24.0175\n",
      "Epoch 201/250\n",
      "22/22 [==============================] - 0s 1ms/step - loss: 24.5180\n",
      "Epoch 202/250\n",
      "22/22 [==============================] - 0s 1ms/step - loss: 24.2356\n",
      "Epoch 203/250\n",
      "22/22 [==============================] - 0s 1ms/step - loss: 24.3855\n",
      "Epoch 204/250\n",
      "22/22 [==============================] - 0s 1ms/step - loss: 24.6474\n",
      "Epoch 205/250\n",
      "22/22 [==============================] - 0s 1ms/step - loss: 24.2923\n",
      "Epoch 206/250\n",
      "22/22 [==============================] - 0s 942us/step - loss: 24.8929\n",
      "Epoch 207/250\n",
      "22/22 [==============================] - 0s 956us/step - loss: 24.5639\n",
      "Epoch 208/250\n",
      "22/22 [==============================] - 0s 1ms/step - loss: 24.7370\n",
      "Epoch 209/250\n",
      "22/22 [==============================] - 0s 1ms/step - loss: 24.6016\n",
      "Epoch 210/250\n",
      "22/22 [==============================] - 0s 1ms/step - loss: 24.4701\n",
      "Epoch 211/250\n",
      "22/22 [==============================] - 0s 1ms/step - loss: 24.5428\n",
      "Epoch 212/250\n",
      "22/22 [==============================] - 0s 1ms/step - loss: 24.6687\n",
      "Epoch 213/250\n",
      "22/22 [==============================] - 0s 1ms/step - loss: 24.7633\n",
      "Epoch 214/250\n",
      "22/22 [==============================] - 0s 1ms/step - loss: 24.7643\n",
      "Epoch 215/250\n",
      "22/22 [==============================] - 0s 922us/step - loss: 24.3782\n",
      "Epoch 216/250\n",
      "22/22 [==============================] - 0s 1ms/step - loss: 25.0064\n",
      "Epoch 217/250\n",
      "22/22 [==============================] - 0s 920us/step - loss: 24.4708\n",
      "Epoch 218/250\n",
      "22/22 [==============================] - 0s 854us/step - loss: 24.2594\n",
      "Epoch 219/250\n",
      "22/22 [==============================] - 0s 967us/step - loss: 24.3707\n",
      "Epoch 220/250\n",
      "22/22 [==============================] - 0s 1ms/step - loss: 24.4231\n",
      "Epoch 221/250\n",
      "22/22 [==============================] - 0s 1ms/step - loss: 24.4319\n",
      "Epoch 222/250\n",
      "22/22 [==============================] - 0s 1ms/step - loss: 24.6167\n",
      "Epoch 223/250\n",
      "22/22 [==============================] - 0s 2ms/step - loss: 24.4973\n",
      "Epoch 224/250\n",
      "22/22 [==============================] - 0s 2ms/step - loss: 24.3252\n",
      "Epoch 225/250\n",
      "22/22 [==============================] - 0s 2ms/step - loss: 24.5036\n",
      "Epoch 226/250\n",
      "22/22 [==============================] - 0s 1ms/step - loss: 24.7112\n",
      "Epoch 227/250\n",
      "22/22 [==============================] - 0s 1ms/step - loss: 24.8240\n",
      "Epoch 228/250\n",
      "22/22 [==============================] - 0s 1ms/step - loss: 24.2219\n",
      "Epoch 229/250\n",
      "22/22 [==============================] - 0s 1ms/step - loss: 23.8615\n",
      "Epoch 230/250\n",
      "22/22 [==============================] - 0s 2ms/step - loss: 24.3296\n",
      "Epoch 231/250\n",
      "22/22 [==============================] - 0s 1ms/step - loss: 24.4612\n",
      "Epoch 232/250\n",
      "22/22 [==============================] - 0s 1ms/step - loss: 24.6344\n",
      "Epoch 233/250\n",
      "22/22 [==============================] - 0s 1ms/step - loss: 24.5691\n",
      "Epoch 234/250\n",
      "22/22 [==============================] - 0s 779us/step - loss: 24.9256\n",
      "Epoch 235/250\n",
      "22/22 [==============================] - 0s 996us/step - loss: 24.2222\n",
      "Epoch 236/250\n",
      "22/22 [==============================] - 0s 1ms/step - loss: 24.8778\n",
      "Epoch 237/250\n",
      "22/22 [==============================] - 0s 1ms/step - loss: 24.4131\n",
      "Epoch 238/250\n",
      "22/22 [==============================] - 0s 846us/step - loss: 24.3866\n",
      "Epoch 239/250\n",
      "22/22 [==============================] - 0s 929us/step - loss: 24.4601\n",
      "Epoch 240/250\n",
      "22/22 [==============================] - 0s 764us/step - loss: 24.3355\n",
      "Epoch 241/250\n",
      "22/22 [==============================] - 0s 915us/step - loss: 24.4406\n",
      "Epoch 242/250\n",
      "22/22 [==============================] - 0s 852us/step - loss: 24.4605\n",
      "Epoch 243/250\n",
      "22/22 [==============================] - 0s 884us/step - loss: 24.6074\n",
      "Epoch 244/250\n",
      "22/22 [==============================] - 0s 835us/step - loss: 24.4460\n",
      "Epoch 245/250\n",
      "22/22 [==============================] - 0s 855us/step - loss: 24.6551\n",
      "Epoch 246/250\n",
      "22/22 [==============================] - 0s 799us/step - loss: 25.0139\n",
      "Epoch 247/250\n",
      "22/22 [==============================] - 0s 916us/step - loss: 24.5345\n",
      "Epoch 248/250\n",
      "22/22 [==============================] - 0s 1ms/step - loss: 24.5827\n",
      "Epoch 249/250\n",
      "22/22 [==============================] - 0s 1ms/step - loss: 24.3651\n",
      "Epoch 250/250\n",
      "22/22 [==============================] - 0s 1ms/step - loss: 24.7324\n"
     ]
    },
    {
     "data": {
      "text/plain": [
       "<keras.callbacks.History at 0x1b014402130>"
      ]
     },
     "execution_count": 42,
     "metadata": {},
     "output_type": "execute_result"
    }
   ],
   "source": [
    "model.fit(x = X_train, y = y_train, batch_size = 32, epochs = 250)"
   ]
  },
  {
   "cell_type": "code",
   "execution_count": 43,
   "metadata": {},
   "outputs": [
    {
     "data": {
      "text/plain": [
       "[<tf.Variable 'dense_4/kernel:0' shape=(2, 4) dtype=float32, numpy=\n",
       " array([[ 1.8449563 ,  1.2924639 ,  0.47484273, -0.90449166],\n",
       "        [ 2.491773  ,  1.0057003 ,  3.1885526 , -0.9434526 ]],\n",
       "       dtype=float32)>,\n",
       " <tf.Variable 'dense_4/bias:0' shape=(4,) dtype=float32, numpy=array([ 0.6268799 , -0.10520206,  0.6186739 ,  0.        ], dtype=float32)>,\n",
       " <tf.Variable 'dense_5/kernel:0' shape=(4, 4) dtype=float32, numpy=\n",
       " array([[ 2.005561  ,  2.0821366 ,  2.1255543 ,  2.0311167 ],\n",
       "        [ 1.6814338 ,  0.30831093,  1.8213736 ,  0.80302155],\n",
       "        [ 0.964884  ,  2.598745  ,  1.4739524 ,  2.5504158 ],\n",
       "        [-0.06727767,  0.86259764,  0.27592593,  0.6803561 ]],\n",
       "       dtype=float32)>,\n",
       " <tf.Variable 'dense_5/bias:0' shape=(4,) dtype=float32, numpy=array([0.40289617, 0.59735566, 0.5373333 , 0.61659914], dtype=float32)>,\n",
       " <tf.Variable 'dense_6/kernel:0' shape=(4, 4) dtype=float32, numpy=\n",
       " array([[ 0.5092632 ,  0.7502013 ,  1.6335952 ,  1.9299287 ],\n",
       "        [-0.37084922,  1.6434872 ,  1.3435578 ,  2.2437508 ],\n",
       "        [-0.8369925 ,  2.4272156 ,  0.9358862 ,  1.0193965 ],\n",
       "        [-0.24845093,  1.6672251 ,  1.5942724 ,  1.826322  ]],\n",
       "       dtype=float32)>,\n",
       " <tf.Variable 'dense_6/bias:0' shape=(4,) dtype=float32, numpy=array([0.        , 0.58396435, 0.00866447, 0.5804104 ], dtype=float32)>,\n",
       " <tf.Variable 'dense_7/kernel:0' shape=(4, 1) dtype=float32, numpy=\n",
       " array([[-0.63951105],\n",
       "        [ 2.1536593 ],\n",
       "        [ 1.2941382 ],\n",
       "        [ 2.6218858 ]], dtype=float32)>,\n",
       " <tf.Variable 'dense_7/bias:0' shape=(1,) dtype=float32, numpy=array([0.57261044], dtype=float32)>]"
      ]
     },
     "execution_count": 43,
     "metadata": {},
     "output_type": "execute_result"
    }
   ],
   "source": [
    "model.weights"
   ]
  },
  {
   "cell_type": "code",
   "execution_count": 44,
   "metadata": {},
   "outputs": [
    {
     "data": {
      "text/plain": [
       "{'loss': [256615.421875,\n",
       "  256447.25,\n",
       "  256260.65625,\n",
       "  256038.515625,\n",
       "  255780.453125,\n",
       "  255479.421875,\n",
       "  255127.890625,\n",
       "  254723.015625,\n",
       "  254263.515625,\n",
       "  253742.484375,\n",
       "  253154.609375,\n",
       "  252497.875,\n",
       "  251761.421875,\n",
       "  250950.03125,\n",
       "  250052.28125,\n",
       "  249049.96875,\n",
       "  247944.578125,\n",
       "  246725.78125,\n",
       "  245370.46875,\n",
       "  243898.5625,\n",
       "  242282.1875,\n",
       "  240516.40625,\n",
       "  238601.375,\n",
       "  236521.71875,\n",
       "  234273.046875,\n",
       "  231869.515625,\n",
       "  229270.625,\n",
       "  226480.09375,\n",
       "  223493.625,\n",
       "  220309.078125,\n",
       "  216923.46875,\n",
       "  213304.40625,\n",
       "  209463.25,\n",
       "  205371.59375,\n",
       "  201024.234375,\n",
       "  196418.328125,\n",
       "  191542.5,\n",
       "  186378.765625,\n",
       "  180911.15625,\n",
       "  175180.90625,\n",
       "  169149.390625,\n",
       "  162833.125,\n",
       "  156284.625,\n",
       "  149529.546875,\n",
       "  142522.265625,\n",
       "  135265.796875,\n",
       "  127827.3515625,\n",
       "  120218.96875,\n",
       "  112428.125,\n",
       "  104517.2890625,\n",
       "  96504.09375,\n",
       "  88456.7421875,\n",
       "  80374.6953125,\n",
       "  72397.796875,\n",
       "  64458.99609375,\n",
       "  56671.49609375,\n",
       "  49078.9296875,\n",
       "  41820.671875,\n",
       "  34823.953125,\n",
       "  28348.611328125,\n",
       "  22392.322265625,\n",
       "  17048.130859375,\n",
       "  12414.642578125,\n",
       "  8557.0302734375,\n",
       "  5625.9580078125,\n",
       "  3643.187744140625,\n",
       "  2595.12060546875,\n",
       "  2218.81494140625,\n",
       "  2140.599365234375,\n",
       "  2095.3896484375,\n",
       "  2045.18212890625,\n",
       "  1991.2689208984375,\n",
       "  1940.68798828125,\n",
       "  1891.65869140625,\n",
       "  1835.9937744140625,\n",
       "  1782.908447265625,\n",
       "  1746.520751953125,\n",
       "  1694.9464111328125,\n",
       "  1656.6732177734375,\n",
       "  1604.8360595703125,\n",
       "  1560.3212890625,\n",
       "  1514.818603515625,\n",
       "  1470.0137939453125,\n",
       "  1433.599853515625,\n",
       "  1390.2109375,\n",
       "  1348.68212890625,\n",
       "  1304.8150634765625,\n",
       "  1262.97119140625,\n",
       "  1224.2139892578125,\n",
       "  1191.3262939453125,\n",
       "  1149.7147216796875,\n",
       "  1113.1446533203125,\n",
       "  1070.285400390625,\n",
       "  1027.2269287109375,\n",
       "  987.7876586914062,\n",
       "  948.8343505859375,\n",
       "  907.08740234375,\n",
       "  872.5027465820312,\n",
       "  836.0792846679688,\n",
       "  798.5613403320312,\n",
       "  769.99609375,\n",
       "  733.1056518554688,\n",
       "  712.7830810546875,\n",
       "  678.7233276367188,\n",
       "  645.7929077148438,\n",
       "  616.5596313476562,\n",
       "  587.8272094726562,\n",
       "  561.8534545898438,\n",
       "  533.3418579101562,\n",
       "  506.90789794921875,\n",
       "  482.59210205078125,\n",
       "  460.3606262207031,\n",
       "  433.3594665527344,\n",
       "  408.5366516113281,\n",
       "  384.81268310546875,\n",
       "  362.7013854980469,\n",
       "  342.3899230957031,\n",
       "  319.1353454589844,\n",
       "  297.654541015625,\n",
       "  281.45172119140625,\n",
       "  261.13641357421875,\n",
       "  242.2865447998047,\n",
       "  221.7288818359375,\n",
       "  205.50970458984375,\n",
       "  192.41200256347656,\n",
       "  177.76271057128906,\n",
       "  162.97874450683594,\n",
       "  150.58425903320312,\n",
       "  137.99497985839844,\n",
       "  125.14668273925781,\n",
       "  114.27066802978516,\n",
       "  103.80946350097656,\n",
       "  93.13253784179688,\n",
       "  84.20105743408203,\n",
       "  75.17214965820312,\n",
       "  68.03689575195312,\n",
       "  60.94773864746094,\n",
       "  54.49321365356445,\n",
       "  49.733604431152344,\n",
       "  44.55487823486328,\n",
       "  39.98361587524414,\n",
       "  37.15531921386719,\n",
       "  34.320945739746094,\n",
       "  32.353397369384766,\n",
       "  30.136133193969727,\n",
       "  28.550148010253906,\n",
       "  28.133468627929688,\n",
       "  26.987749099731445,\n",
       "  26.36164093017578,\n",
       "  25.555068969726562,\n",
       "  25.979665756225586,\n",
       "  25.236310958862305,\n",
       "  25.29779624938965,\n",
       "  24.699237823486328,\n",
       "  25.031478881835938,\n",
       "  24.98802947998047,\n",
       "  25.321989059448242,\n",
       "  24.84347915649414,\n",
       "  24.689783096313477,\n",
       "  24.82628059387207,\n",
       "  24.553300857543945,\n",
       "  24.625225067138672,\n",
       "  24.26975440979004,\n",
       "  24.294511795043945,\n",
       "  24.604137420654297,\n",
       "  24.55510139465332,\n",
       "  24.134023666381836,\n",
       "  24.45382308959961,\n",
       "  24.627756118774414,\n",
       "  24.473783493041992,\n",
       "  24.761507034301758,\n",
       "  24.574953079223633,\n",
       "  24.541227340698242,\n",
       "  24.36898422241211,\n",
       "  24.261789321899414,\n",
       "  24.156394958496094,\n",
       "  24.980731964111328,\n",
       "  24.99760627746582,\n",
       "  24.744966506958008,\n",
       "  24.43645668029785,\n",
       "  24.843730926513672,\n",
       "  24.454139709472656,\n",
       "  24.40689468383789,\n",
       "  24.367321014404297,\n",
       "  24.85698127746582,\n",
       "  24.533662796020508,\n",
       "  24.54262351989746,\n",
       "  24.529020309448242,\n",
       "  24.252065658569336,\n",
       "  24.482938766479492,\n",
       "  24.780628204345703,\n",
       "  24.50311851501465,\n",
       "  24.636981964111328,\n",
       "  24.613956451416016,\n",
       "  24.48297119140625,\n",
       "  24.505664825439453,\n",
       "  24.566450119018555,\n",
       "  23.87212371826172,\n",
       "  24.160747528076172,\n",
       "  24.0174617767334,\n",
       "  24.517988204956055,\n",
       "  24.23558235168457,\n",
       "  24.385541915893555,\n",
       "  24.647417068481445,\n",
       "  24.292341232299805,\n",
       "  24.892927169799805,\n",
       "  24.563920974731445,\n",
       "  24.737031936645508,\n",
       "  24.6015625,\n",
       "  24.470136642456055,\n",
       "  24.542842864990234,\n",
       "  24.668703079223633,\n",
       "  24.763273239135742,\n",
       "  24.764318466186523,\n",
       "  24.37824821472168,\n",
       "  25.006385803222656,\n",
       "  24.47075653076172,\n",
       "  24.259422302246094,\n",
       "  24.370664596557617,\n",
       "  24.42313003540039,\n",
       "  24.43191146850586,\n",
       "  24.61674690246582,\n",
       "  24.497270584106445,\n",
       "  24.325239181518555,\n",
       "  24.50357437133789,\n",
       "  24.711153030395508,\n",
       "  24.823978424072266,\n",
       "  24.221904754638672,\n",
       "  23.861495971679688,\n",
       "  24.329559326171875,\n",
       "  24.46116065979004,\n",
       "  24.6343994140625,\n",
       "  24.569093704223633,\n",
       "  24.92561149597168,\n",
       "  24.222150802612305,\n",
       "  24.877790451049805,\n",
       "  24.41314697265625,\n",
       "  24.38662338256836,\n",
       "  24.460050582885742,\n",
       "  24.335479736328125,\n",
       "  24.440628051757812,\n",
       "  24.460487365722656,\n",
       "  24.607357025146484,\n",
       "  24.44597625732422,\n",
       "  24.65511131286621,\n",
       "  25.013948440551758,\n",
       "  24.534481048583984,\n",
       "  24.582656860351562,\n",
       "  24.365081787109375,\n",
       "  24.732379913330078]}"
      ]
     },
     "execution_count": 44,
     "metadata": {},
     "output_type": "execute_result"
    }
   ],
   "source": [
    "model.history.history"
   ]
  },
  {
   "cell_type": "code",
   "execution_count": 45,
   "metadata": {},
   "outputs": [
    {
     "data": {
      "text/html": [
       "<div>\n",
       "<style scoped>\n",
       "    .dataframe tbody tr th:only-of-type {\n",
       "        vertical-align: middle;\n",
       "    }\n",
       "\n",
       "    .dataframe tbody tr th {\n",
       "        vertical-align: top;\n",
       "    }\n",
       "\n",
       "    .dataframe thead th {\n",
       "        text-align: right;\n",
       "    }\n",
       "</style>\n",
       "<table border=\"1\" class=\"dataframe\">\n",
       "  <thead>\n",
       "    <tr style=\"text-align: right;\">\n",
       "      <th></th>\n",
       "      <th>loss</th>\n",
       "    </tr>\n",
       "  </thead>\n",
       "  <tbody>\n",
       "    <tr>\n",
       "      <th>0</th>\n",
       "      <td>256615.422</td>\n",
       "    </tr>\n",
       "    <tr>\n",
       "      <th>1</th>\n",
       "      <td>256447.250</td>\n",
       "    </tr>\n",
       "    <tr>\n",
       "      <th>2</th>\n",
       "      <td>256260.656</td>\n",
       "    </tr>\n",
       "    <tr>\n",
       "      <th>3</th>\n",
       "      <td>256038.516</td>\n",
       "    </tr>\n",
       "    <tr>\n",
       "      <th>4</th>\n",
       "      <td>255780.453</td>\n",
       "    </tr>\n",
       "    <tr>\n",
       "      <th>...</th>\n",
       "      <td>...</td>\n",
       "    </tr>\n",
       "    <tr>\n",
       "      <th>245</th>\n",
       "      <td>25.014</td>\n",
       "    </tr>\n",
       "    <tr>\n",
       "      <th>246</th>\n",
       "      <td>24.534</td>\n",
       "    </tr>\n",
       "    <tr>\n",
       "      <th>247</th>\n",
       "      <td>24.583</td>\n",
       "    </tr>\n",
       "    <tr>\n",
       "      <th>248</th>\n",
       "      <td>24.365</td>\n",
       "    </tr>\n",
       "    <tr>\n",
       "      <th>249</th>\n",
       "      <td>24.732</td>\n",
       "    </tr>\n",
       "  </tbody>\n",
       "</table>\n",
       "<p>250 rows × 1 columns</p>\n",
       "</div>"
      ],
      "text/plain": [
       "          loss\n",
       "0   256615.422\n",
       "1   256447.250\n",
       "2   256260.656\n",
       "3   256038.516\n",
       "4   255780.453\n",
       "..         ...\n",
       "245     25.014\n",
       "246     24.534\n",
       "247     24.583\n",
       "248     24.365\n",
       "249     24.732\n",
       "\n",
       "[250 rows x 1 columns]"
      ]
     },
     "execution_count": 45,
     "metadata": {},
     "output_type": "execute_result"
    }
   ],
   "source": [
    "pd.DataFrame(model.history.history)"
   ]
  },
  {
   "cell_type": "code",
   "execution_count": 46,
   "metadata": {},
   "outputs": [
    {
     "data": {
      "text/plain": [
       "<AxesSubplot:>"
      ]
     },
     "execution_count": 46,
     "metadata": {},
     "output_type": "execute_result"
    },
    {
     "data": {
      "image/png": "[encoded data removed]",
      "text/plain": [
       "<Figure size 1000x600 with 1 Axes>"
      ]
     },
     "metadata": {},
     "output_type": "display_data"
    }
   ],
   "source": [
    "loss_df = pd.DataFrame(model.history.history)\n",
    "loss_df.plot()"
   ]
  },
  {
   "cell_type": "code",
   "execution_count": 47,
   "metadata": {},
   "outputs": [
    {
     "data": {
      "text/plain": [
       "(0.0, 3000.0)"
      ]
     },
     "execution_count": 47,
     "metadata": {},
     "output_type": "execute_result"
    },
    {
     "data": {
      "image/png": "[encoded data removed]",
      "text/plain": [
       "<Figure size 1000x600 with 1 Axes>"
      ]
     },
     "metadata": {},
     "output_type": "display_data"
    }
   ],
   "source": [
    "fig, ax= plt.subplots()\n",
    "ax.plot(loss_df)\n",
    "ax.set_xlabel(\"epoch\")\n",
    "ax.set_ylabel(\"loss\")\n",
    "ax.set_title(\"loss - epoch graph\")\n",
    "ax.set_xlim([0, 250]) # focusing on the given x values\n",
    "ax.set_ylim([0, 3000]) # focusing on the given y values"
   ]
  },
  {
   "cell_type": "markdown",
   "metadata": {},
   "source": [
    "## Model Performance"
   ]
  },
  {
   "cell_type": "code",
   "execution_count": 48,
   "metadata": {},
   "outputs": [],
   "source": [
    "from sklearn.metrics import mean_squared_error, mean_absolute_error, r2_score"
   ]
  },
  {
   "cell_type": "code",
   "execution_count": 49,
   "metadata": {},
   "outputs": [
    {
     "data": {
      "text/plain": [
       "23.772550582885742"
      ]
     },
     "execution_count": 49,
     "metadata": {},
     "output_type": "execute_result"
    }
   ],
   "source": [
    "model.evaluate(X_train, y_train, verbose=0)"
   ]
  },
  {
   "cell_type": "code",
   "execution_count": 50,
   "metadata": {},
   "outputs": [
    {
     "data": {
      "text/plain": [
       "25.382030487060547"
      ]
     },
     "execution_count": 50,
     "metadata": {},
     "output_type": "execute_result"
    }
   ],
   "source": [
    "model.evaluate(X_test, y_test, verbose=0)"
   ]
  },
  {
   "cell_type": "code",
   "execution_count": 51,
   "metadata": {},
   "outputs": [
    {
     "name": "stdout",
     "output_type": "stream",
     "text": [
      "10/10 [==============================] - 0s 1ms/step\n"
     ]
    },
    {
     "data": {
      "text/plain": [
       "(300, 1)"
      ]
     },
     "execution_count": 51,
     "metadata": {},
     "output_type": "execute_result"
    }
   ],
   "source": [
    "y_pred = model.predict(X_test)\n",
    "y_pred.shape"
   ]
  },
  {
   "cell_type": "code",
   "execution_count": 52,
   "metadata": {},
   "outputs": [
    {
     "data": {
      "text/plain": [
       "(300,)"
      ]
     },
     "execution_count": 52,
     "metadata": {},
     "output_type": "execute_result"
    }
   ],
   "source": [
    "y_test.shape"
   ]
  },
  {
   "cell_type": "code",
   "execution_count": 53,
   "metadata": {},
   "outputs": [
    {
     "data": {
      "text/plain": [
       "(300,)"
      ]
     },
     "execution_count": 53,
     "metadata": {},
     "output_type": "execute_result"
    }
   ],
   "source": [
    "y_pred.reshape(-1,).shape"
   ]
  },
  {
   "cell_type": "code",
   "execution_count": 54,
   "metadata": {},
   "outputs": [
    {
     "data": {
      "text/html": [
       "<div>\n",
       "<style scoped>\n",
       "    .dataframe tbody tr th:only-of-type {\n",
       "        vertical-align: middle;\n",
       "    }\n",
       "\n",
       "    .dataframe tbody tr th {\n",
       "        vertical-align: top;\n",
       "    }\n",
       "\n",
       "    .dataframe thead th {\n",
       "        text-align: right;\n",
       "    }\n",
       "</style>\n",
       "<table border=\"1\" class=\"dataframe\">\n",
       "  <thead>\n",
       "    <tr style=\"text-align: right;\">\n",
       "      <th></th>\n",
       "      <th>Actual</th>\n",
       "      <th>Pred</th>\n",
       "    </tr>\n",
       "  </thead>\n",
       "  <tbody>\n",
       "    <tr>\n",
       "      <th>679</th>\n",
       "      <td>466.000</td>\n",
       "      <td>466.500</td>\n",
       "    </tr>\n",
       "    <tr>\n",
       "      <th>737</th>\n",
       "      <td>624.156</td>\n",
       "      <td>624.239</td>\n",
       "    </tr>\n",
       "    <tr>\n",
       "      <th>621</th>\n",
       "      <td>448.519</td>\n",
       "      <td>438.855</td>\n",
       "    </tr>\n",
       "    <tr>\n",
       "      <th>139</th>\n",
       "      <td>488.787</td>\n",
       "      <td>485.634</td>\n",
       "    </tr>\n",
       "    <tr>\n",
       "      <th>734</th>\n",
       "      <td>503.271</td>\n",
       "      <td>508.980</td>\n",
       "    </tr>\n",
       "    <tr>\n",
       "      <th>687</th>\n",
       "      <td>507.443</td>\n",
       "      <td>502.452</td>\n",
       "    </tr>\n",
       "    <tr>\n",
       "      <th>998</th>\n",
       "      <td>403.316</td>\n",
       "      <td>403.667</td>\n",
       "    </tr>\n",
       "    <tr>\n",
       "      <th>141</th>\n",
       "      <td>518.007</td>\n",
       "      <td>521.652</td>\n",
       "    </tr>\n",
       "    <tr>\n",
       "      <th>519</th>\n",
       "      <td>553.905</td>\n",
       "      <td>552.218</td>\n",
       "    </tr>\n",
       "    <tr>\n",
       "      <th>250</th>\n",
       "      <td>375.959</td>\n",
       "      <td>382.155</td>\n",
       "    </tr>\n",
       "  </tbody>\n",
       "</table>\n",
       "</div>"
      ],
      "text/plain": [
       "     Actual    Pred\n",
       "679 466.000 466.500\n",
       "737 624.156 624.239\n",
       "621 448.519 438.855\n",
       "139 488.787 485.634\n",
       "734 503.271 508.980\n",
       "687 507.443 502.452\n",
       "998 403.316 403.667\n",
       "141 518.007 521.652\n",
       "519 553.905 552.218\n",
       "250 375.959 382.155"
      ]
     },
     "execution_count": 54,
     "metadata": {},
     "output_type": "execute_result"
    }
   ],
   "source": [
    "my_dict = {\"Actual\" : y_test, \"Pred\" : y_pred.reshape(-1,)}\n",
    "compare = pd.DataFrame(my_dict)\n",
    "compare.sample(10)"
   ]
  },
  {
   "cell_type": "code",
   "execution_count": 55,
   "metadata": {},
   "outputs": [
    {
     "data": {
      "text/plain": [
       "<AxesSubplot:xlabel='Actual', ylabel='Pred'>"
      ]
     },
     "execution_count": 55,
     "metadata": {},
     "output_type": "execute_result"
    },
    {
     "data": {
      "image/png": "[encoded data removed]",
      "text/plain": [
       "<Figure size 1000x600 with 1 Axes>"
      ]
     },
     "metadata": {},
     "output_type": "display_data"
    }
   ],
   "source": [
    "sns.scatterplot(x = 'Actual', y = 'Pred', data = compare)"
   ]
  },
  {
   "cell_type": "code",
   "execution_count": 56,
   "metadata": {},
   "outputs": [],
   "source": [
    "def eval_metric(actual, pred):\n",
    "    mae = mean_absolute_error(actual, pred)\n",
    "    mse = mean_squared_error(actual, pred)\n",
    "    rmse = np.sqrt(mean_squared_error(actual, pred))\n",
    "    score = r2_score(actual, pred)\n",
    "    return print(\"r2_score:\", score, \"\\nmae:\", mae, \"\\nmse:\", mse, \"\\nrmse:\", rmse)"
   ]
  },
  {
   "cell_type": "code",
   "execution_count": 57,
   "metadata": {},
   "outputs": [
    {
     "name": "stdout",
     "output_type": "stream",
     "text": [
      "r2_score: 0.9971130619085385 \n",
      "mae: 4.053435264857672 \n",
      "mse: 25.382051116215237 \n",
      "rmse: 5.038060253333145\n"
     ]
    }
   ],
   "source": [
    "eval_metric(y_test, y_pred)"
   ]
  },
  {
   "cell_type": "markdown",
   "metadata": {},
   "source": [
    "## Final Model and Model Deployment"
   ]
  },
  {
   "cell_type": "markdown",
   "metadata": {},
   "source": [
    "### Final Model Training"
   ]
  },
  {
   "cell_type": "code",
   "execution_count": 58,
   "metadata": {},
   "outputs": [],
   "source": [
    "scaler = MinMaxScaler().fit(X)"
   ]
  },
  {
   "cell_type": "code",
   "execution_count": 59,
   "metadata": {},
   "outputs": [],
   "source": [
    "import pickle\n",
    "pickle.dump(scaler, open(\"scaler_fake_reg\", 'wb'))"
   ]
  },
  {
   "cell_type": "code",
   "execution_count": 60,
   "metadata": {},
   "outputs": [],
   "source": [
    "X_scaled = scaler.transform(X)"
   ]
  },
  {
   "cell_type": "code",
   "execution_count": 61,
   "metadata": {},
   "outputs": [
    {
     "name": "stdout",
     "output_type": "stream",
     "text": [
      "Epoch 1/250\n",
      "32/32 [==============================] - 1s 2ms/step - loss: 257460.2344\n",
      "Epoch 2/250\n",
      "32/32 [==============================] - 0s 2ms/step - loss: 257407.2656\n",
      "Epoch 3/250\n",
      "32/32 [==============================] - 0s 2ms/step - loss: 257373.7031\n",
      "Epoch 4/250\n",
      "32/32 [==============================] - 0s 1ms/step - loss: 257341.6562\n",
      "Epoch 5/250\n",
      "32/32 [==============================] - 0s 1ms/step - loss: 257309.8594\n",
      "Epoch 6/250\n",
      "32/32 [==============================] - 0s 1ms/step - loss: 257277.8750\n",
      "Epoch 7/250\n",
      "32/32 [==============================] - 0s 1ms/step - loss: 257245.9531\n",
      "Epoch 8/250\n",
      "32/32 [==============================] - 0s 2ms/step - loss: 257214.0625\n",
      "Epoch 9/250\n",
      "32/32 [==============================] - 0s 2ms/step - loss: 257182.1875\n",
      "Epoch 10/250\n",
      "32/32 [==============================] - 0s 2ms/step - loss: 257150.3750\n",
      "Epoch 11/250\n",
      "32/32 [==============================] - 0s 2ms/step - loss: 257118.5469\n",
      "Epoch 12/250\n",
      "32/32 [==============================] - 0s 2ms/step - loss: 257086.6094\n",
      "Epoch 13/250\n",
      "32/32 [==============================] - 0s 2ms/step - loss: 257054.7344\n",
      "Epoch 14/250\n",
      "32/32 [==============================] - 0s 2ms/step - loss: 257022.8594\n",
      "Epoch 15/250\n",
      "32/32 [==============================] - 0s 2ms/step - loss: 256991.0781\n",
      "Epoch 16/250\n",
      "32/32 [==============================] - 0s 2ms/step - loss: 256959.1719\n",
      "Epoch 17/250\n",
      "32/32 [==============================] - 0s 2ms/step - loss: 256927.3594\n",
      "Epoch 18/250\n",
      "32/32 [==============================] - 0s 2ms/step - loss: 256895.4531\n",
      "Epoch 19/250\n",
      "32/32 [==============================] - 0s 1ms/step - loss: 256863.6406\n",
      "Epoch 20/250\n",
      "32/32 [==============================] - 0s 1ms/step - loss: 256831.8125\n",
      "Epoch 21/250\n",
      "32/32 [==============================] - 0s 2ms/step - loss: 256799.8750\n",
      "Epoch 22/250\n",
      "32/32 [==============================] - 0s 2ms/step - loss: 256768.0312\n",
      "Epoch 23/250\n",
      "32/32 [==============================] - 0s 2ms/step - loss: 256736.2031\n",
      "Epoch 24/250\n",
      "32/32 [==============================] - 0s 2ms/step - loss: 256704.4062\n",
      "Epoch 25/250\n",
      "32/32 [==============================] - 0s 2ms/step - loss: 256672.5781\n",
      "Epoch 26/250\n",
      "32/32 [==============================] - 0s 2ms/step - loss: 256640.7188\n",
      "Epoch 27/250\n",
      "32/32 [==============================] - 0s 2ms/step - loss: 256608.7969\n",
      "Epoch 28/250\n",
      "32/32 [==============================] - 0s 2ms/step - loss: 256576.8750\n",
      "Epoch 29/250\n",
      "32/32 [==============================] - 0s 2ms/step - loss: 256545.1406\n",
      "Epoch 30/250\n",
      "32/32 [==============================] - 0s 1ms/step - loss: 256513.2969\n",
      "Epoch 31/250\n",
      "32/32 [==============================] - 0s 1ms/step - loss: 256481.5000\n",
      "Epoch 32/250\n",
      "32/32 [==============================] - 0s 1ms/step - loss: 256449.6562\n",
      "Epoch 33/250\n",
      "32/32 [==============================] - 0s 2ms/step - loss: 256417.8438\n",
      "Epoch 34/250\n",
      "32/32 [==============================] - 0s 2ms/step - loss: 256385.9531\n",
      "Epoch 35/250\n",
      "32/32 [==============================] - 0s 2ms/step - loss: 256354.1875\n",
      "Epoch 36/250\n",
      "32/32 [==============================] - 0s 2ms/step - loss: 256322.4531\n",
      "Epoch 37/250\n",
      "32/32 [==============================] - 0s 2ms/step - loss: 256290.5469\n",
      "Epoch 38/250\n",
      "32/32 [==============================] - 0s 2ms/step - loss: 256258.7812\n",
      "Epoch 39/250\n",
      "32/32 [==============================] - 0s 2ms/step - loss: 256226.9062\n",
      "Epoch 40/250\n",
      "32/32 [==============================] - 0s 2ms/step - loss: 256195.1250\n",
      "Epoch 41/250\n",
      "32/32 [==============================] - 0s 1ms/step - loss: 256163.2969\n",
      "Epoch 42/250\n",
      "32/32 [==============================] - 0s 2ms/step - loss: 256131.4375\n",
      "Epoch 43/250\n",
      "32/32 [==============================] - 0s 2ms/step - loss: 256099.6875\n",
      "Epoch 44/250\n",
      "32/32 [==============================] - 0s 2ms/step - loss: 256067.8906\n",
      "Epoch 45/250\n",
      "32/32 [==============================] - 0s 2ms/step - loss: 256035.9844\n",
      "Epoch 46/250\n",
      "32/32 [==============================] - 0s 1ms/step - loss: 256004.2656\n",
      "Epoch 47/250\n",
      "32/32 [==============================] - 0s 1ms/step - loss: 255972.4219\n",
      "Epoch 48/250\n",
      "32/32 [==============================] - 0s 1ms/step - loss: 255940.6406\n",
      "Epoch 49/250\n",
      "32/32 [==============================] - 0s 1ms/step - loss: 255908.8438\n",
      "Epoch 50/250\n",
      "32/32 [==============================] - 0s 1ms/step - loss: 255877.0469\n",
      "Epoch 51/250\n",
      "32/32 [==============================] - 0s 2ms/step - loss: 255845.2344\n",
      "Epoch 52/250\n",
      "32/32 [==============================] - 0s 1ms/step - loss: 255813.5000\n",
      "Epoch 53/250\n",
      "32/32 [==============================] - 0s 2ms/step - loss: 255781.6562\n",
      "Epoch 54/250\n",
      "32/32 [==============================] - 0s 2ms/step - loss: 255749.9062\n",
      "Epoch 55/250\n",
      "32/32 [==============================] - 0s 2ms/step - loss: 255718.1406\n",
      "Epoch 56/250\n",
      "32/32 [==============================] - 0s 1ms/step - loss: 255686.3906\n",
      "Epoch 57/250\n",
      "32/32 [==============================] - 0s 2ms/step - loss: 255654.5156\n",
      "Epoch 58/250\n",
      "32/32 [==============================] - 0s 1ms/step - loss: 255622.7344\n",
      "Epoch 59/250\n",
      "32/32 [==============================] - 0s 1ms/step - loss: 255590.9688\n",
      "Epoch 60/250\n",
      "32/32 [==============================] - 0s 1ms/step - loss: 255559.2344\n",
      "Epoch 61/250\n",
      "32/32 [==============================] - 0s 1ms/step - loss: 255527.4531\n",
      "Epoch 62/250\n",
      "32/32 [==============================] - 0s 2ms/step - loss: 255495.6875\n",
      "Epoch 63/250\n",
      "32/32 [==============================] - 0s 2ms/step - loss: 255463.9219\n",
      "Epoch 64/250\n",
      "32/32 [==============================] - 0s 1ms/step - loss: 255432.1719\n",
      "Epoch 65/250\n",
      "32/32 [==============================] - 0s 1ms/step - loss: 255400.4219\n",
      "Epoch 66/250\n",
      "32/32 [==============================] - 0s 2ms/step - loss: 255368.6562\n",
      "Epoch 67/250\n",
      "32/32 [==============================] - 0s 1ms/step - loss: 255336.8281\n",
      "Epoch 68/250\n",
      "32/32 [==============================] - 0s 1ms/step - loss: 255305.1094\n",
      "Epoch 69/250\n",
      "32/32 [==============================] - 0s 2ms/step - loss: 255273.3281\n",
      "Epoch 70/250\n",
      "32/32 [==============================] - 0s 2ms/step - loss: 255241.5625\n",
      "Epoch 71/250\n",
      "32/32 [==============================] - 0s 1ms/step - loss: 255209.8281\n",
      "Epoch 72/250\n",
      "32/32 [==============================] - 0s 2ms/step - loss: 255178.1719\n",
      "Epoch 73/250\n",
      "32/32 [==============================] - 0s 1ms/step - loss: 255146.3125\n",
      "Epoch 74/250\n",
      "32/32 [==============================] - 0s 2ms/step - loss: 255114.6094\n",
      "Epoch 75/250\n",
      "32/32 [==============================] - 0s 1ms/step - loss: 255082.8906\n",
      "Epoch 76/250\n",
      "32/32 [==============================] - 0s 1ms/step - loss: 255051.1406\n",
      "Epoch 77/250\n",
      "32/32 [==============================] - 0s 2ms/step - loss: 255019.4531\n",
      "Epoch 78/250\n",
      "32/32 [==============================] - 0s 2ms/step - loss: 254987.6250\n",
      "Epoch 79/250\n",
      "32/32 [==============================] - 0s 2ms/step - loss: 254955.8125\n",
      "Epoch 80/250\n",
      "32/32 [==============================] - 0s 2ms/step - loss: 254924.1250\n",
      "Epoch 81/250\n",
      "32/32 [==============================] - 0s 2ms/step - loss: 254892.4688\n",
      "Epoch 82/250\n",
      "32/32 [==============================] - 0s 2ms/step - loss: 254860.7188\n",
      "Epoch 83/250\n",
      "32/32 [==============================] - 0s 2ms/step - loss: 254829.0469\n",
      "Epoch 84/250\n",
      "32/32 [==============================] - 0s 2ms/step - loss: 254797.2656\n",
      "Epoch 85/250\n",
      "32/32 [==============================] - 0s 2ms/step - loss: 254765.5469\n",
      "Epoch 86/250\n",
      "32/32 [==============================] - 0s 2ms/step - loss: 254733.7344\n",
      "Epoch 87/250\n",
      "32/32 [==============================] - 0s 2ms/step - loss: 254702.1719\n",
      "Epoch 88/250\n",
      "32/32 [==============================] - 0s 2ms/step - loss: 254670.3594\n",
      "Epoch 89/250\n",
      "32/32 [==============================] - 0s 2ms/step - loss: 254638.6562\n",
      "Epoch 90/250\n",
      "32/32 [==============================] - 0s 2ms/step - loss: 254606.9688\n",
      "Epoch 91/250\n",
      "32/32 [==============================] - 0s 2ms/step - loss: 254575.2656\n",
      "Epoch 92/250\n",
      "32/32 [==============================] - 0s 1ms/step - loss: 254543.6875\n",
      "Epoch 93/250\n",
      "32/32 [==============================] - 0s 1ms/step - loss: 254511.9531\n",
      "Epoch 94/250\n",
      "32/32 [==============================] - 0s 2ms/step - loss: 254480.2031\n",
      "Epoch 95/250\n",
      "32/32 [==============================] - 0s 2ms/step - loss: 254448.4531\n",
      "Epoch 96/250\n"
     ]
    },
    {
     "name": "stdout",
     "output_type": "stream",
     "text": [
      "32/32 [==============================] - 0s 1ms/step - loss: 254416.6875\n",
      "Epoch 97/250\n",
      "32/32 [==============================] - 0s 1ms/step - loss: 254385.0156\n",
      "Epoch 98/250\n",
      "32/32 [==============================] - 0s 1ms/step - loss: 254353.3750\n",
      "Epoch 99/250\n",
      "32/32 [==============================] - 0s 2ms/step - loss: 254321.6406\n",
      "Epoch 100/250\n",
      "32/32 [==============================] - 0s 2ms/step - loss: 254290.0625\n",
      "Epoch 101/250\n",
      "32/32 [==============================] - 0s 2ms/step - loss: 254258.2656\n",
      "Epoch 102/250\n",
      "32/32 [==============================] - 0s 1ms/step - loss: 254226.6875\n",
      "Epoch 103/250\n",
      "32/32 [==============================] - 0s 2ms/step - loss: 254194.9531\n",
      "Epoch 104/250\n",
      "32/32 [==============================] - 0s 1ms/step - loss: 254163.2969\n",
      "Epoch 105/250\n",
      "32/32 [==============================] - 0s 1ms/step - loss: 254131.5312\n",
      "Epoch 106/250\n",
      "32/32 [==============================] - 0s 2ms/step - loss: 254099.9531\n",
      "Epoch 107/250\n",
      "32/32 [==============================] - 0s 2ms/step - loss: 254068.2031\n",
      "Epoch 108/250\n",
      "32/32 [==============================] - 0s 2ms/step - loss: 254036.4219\n",
      "Epoch 109/250\n",
      "32/32 [==============================] - 0s 2ms/step - loss: 254004.9531\n",
      "Epoch 110/250\n",
      "32/32 [==============================] - 0s 1ms/step - loss: 253973.2188\n",
      "Epoch 111/250\n",
      "32/32 [==============================] - 0s 1ms/step - loss: 253941.5781\n",
      "Epoch 112/250\n",
      "32/32 [==============================] - 0s 1ms/step - loss: 253909.9219\n",
      "Epoch 113/250\n",
      "32/32 [==============================] - 0s 1ms/step - loss: 253878.2969\n",
      "Epoch 114/250\n",
      "32/32 [==============================] - 0s 1ms/step - loss: 253846.4844\n",
      "Epoch 115/250\n",
      "32/32 [==============================] - 0s 1ms/step - loss: 253814.8750\n",
      "Epoch 116/250\n",
      "32/32 [==============================] - 0s 1ms/step - loss: 253783.3438\n",
      "Epoch 117/250\n",
      "32/32 [==============================] - 0s 2ms/step - loss: 253751.5781\n",
      "Epoch 118/250\n",
      "32/32 [==============================] - 0s 2ms/step - loss: 253719.9531\n",
      "Epoch 119/250\n",
      "32/32 [==============================] - 0s 1ms/step - loss: 253688.2656\n",
      "Epoch 120/250\n",
      "32/32 [==============================] - 0s 2ms/step - loss: 253656.7344\n",
      "Epoch 121/250\n",
      "32/32 [==============================] - 0s 2ms/step - loss: 253624.9844\n",
      "Epoch 122/250\n",
      "32/32 [==============================] - 0s 2ms/step - loss: 253593.2812\n",
      "Epoch 123/250\n",
      "32/32 [==============================] - 0s 2ms/step - loss: 253561.7344\n",
      "Epoch 124/250\n",
      "32/32 [==============================] - 0s 2ms/step - loss: 253530.0625\n",
      "Epoch 125/250\n",
      "32/32 [==============================] - 0s 2ms/step - loss: 253498.5000\n",
      "Epoch 126/250\n",
      "32/32 [==============================] - 0s 2ms/step - loss: 253466.7500\n",
      "Epoch 127/250\n",
      "32/32 [==============================] - 0s 2ms/step - loss: 253435.0625\n",
      "Epoch 128/250\n",
      "32/32 [==============================] - 0s 2ms/step - loss: 253403.4531\n",
      "Epoch 129/250\n",
      "32/32 [==============================] - 0s 1ms/step - loss: 253371.8906\n",
      "Epoch 130/250\n",
      "32/32 [==============================] - 0s 2ms/step - loss: 253340.2188\n",
      "Epoch 131/250\n",
      "32/32 [==============================] - 0s 1ms/step - loss: 253308.5781\n",
      "Epoch 132/250\n",
      "32/32 [==============================] - 0s 2ms/step - loss: 253277.0156\n",
      "Epoch 133/250\n",
      "32/32 [==============================] - 0s 2ms/step - loss: 253245.2969\n",
      "Epoch 134/250\n",
      "32/32 [==============================] - 0s 1ms/step - loss: 253213.6562\n",
      "Epoch 135/250\n",
      "32/32 [==============================] - 0s 1ms/step - loss: 253182.0938\n",
      "Epoch 136/250\n",
      "32/32 [==============================] - 0s 1ms/step - loss: 253150.5781\n",
      "Epoch 137/250\n",
      "32/32 [==============================] - 0s 2ms/step - loss: 253118.9219\n",
      "Epoch 138/250\n",
      "32/32 [==============================] - 0s 1ms/step - loss: 253087.2500\n",
      "Epoch 139/250\n",
      "32/32 [==============================] - 0s 1ms/step - loss: 253055.6250\n",
      "Epoch 140/250\n",
      "32/32 [==============================] - 0s 1ms/step - loss: 253024.0938\n",
      "Epoch 141/250\n",
      "32/32 [==============================] - 0s 1ms/step - loss: 252992.4844\n",
      "Epoch 142/250\n",
      "32/32 [==============================] - 0s 1ms/step - loss: 252960.8594\n",
      "Epoch 143/250\n",
      "32/32 [==============================] - 0s 1ms/step - loss: 252929.2656\n",
      "Epoch 144/250\n",
      "32/32 [==============================] - 0s 2ms/step - loss: 252897.6562\n",
      "Epoch 145/250\n",
      "32/32 [==============================] - 0s 2ms/step - loss: 252865.9375\n",
      "Epoch 146/250\n",
      "32/32 [==============================] - 0s 2ms/step - loss: 252834.3750\n",
      "Epoch 147/250\n",
      "32/32 [==============================] - 0s 2ms/step - loss: 252802.8438\n",
      "Epoch 148/250\n",
      "32/32 [==============================] - 0s 2ms/step - loss: 252771.2500\n",
      "Epoch 149/250\n",
      "32/32 [==============================] - 0s 2ms/step - loss: 252739.6875\n",
      "Epoch 150/250\n",
      "32/32 [==============================] - 0s 2ms/step - loss: 252708.0312\n",
      "Epoch 151/250\n",
      "32/32 [==============================] - 0s 2ms/step - loss: 252676.5000\n",
      "Epoch 152/250\n",
      "32/32 [==============================] - 0s 1ms/step - loss: 252644.9531\n",
      "Epoch 153/250\n",
      "32/32 [==============================] - 0s 1ms/step - loss: 252613.3750\n",
      "Epoch 154/250\n",
      "32/32 [==============================] - 0s 1ms/step - loss: 252581.7969\n",
      "Epoch 155/250\n",
      "32/32 [==============================] - 0s 2ms/step - loss: 252550.1406\n",
      "Epoch 156/250\n",
      "32/32 [==============================] - 0s 1ms/step - loss: 252518.5156\n",
      "Epoch 157/250\n",
      "32/32 [==============================] - 0s 2ms/step - loss: 252487.0312\n",
      "Epoch 158/250\n",
      "32/32 [==============================] - 0s 2ms/step - loss: 252455.4844\n",
      "Epoch 159/250\n",
      "32/32 [==============================] - 0s 2ms/step - loss: 252423.8125\n",
      "Epoch 160/250\n",
      "32/32 [==============================] - 0s 1ms/step - loss: 252392.2656\n",
      "Epoch 161/250\n",
      "32/32 [==============================] - 0s 1ms/step - loss: 252360.7031\n",
      "Epoch 162/250\n",
      "32/32 [==============================] - 0s 1ms/step - loss: 252329.1094\n",
      "Epoch 163/250\n",
      "32/32 [==============================] - 0s 2ms/step - loss: 252297.5000\n",
      "Epoch 164/250\n",
      "32/32 [==============================] - 0s 2ms/step - loss: 252266.0000\n",
      "Epoch 165/250\n",
      "32/32 [==============================] - 0s 2ms/step - loss: 252234.4531\n",
      "Epoch 166/250\n",
      "32/32 [==============================] - 0s 2ms/step - loss: 252202.8750\n",
      "Epoch 167/250\n",
      "32/32 [==============================] - 0s 1ms/step - loss: 252171.4062\n",
      "Epoch 168/250\n",
      "32/32 [==============================] - 0s 1ms/step - loss: 252139.8438\n",
      "Epoch 169/250\n",
      "32/32 [==============================] - 0s 1ms/step - loss: 252108.2500\n",
      "Epoch 170/250\n",
      "32/32 [==============================] - 0s 1ms/step - loss: 252076.7344\n",
      "Epoch 171/250\n",
      "32/32 [==============================] - 0s 2ms/step - loss: 252045.2188\n",
      "Epoch 172/250\n",
      "32/32 [==============================] - 0s 1ms/step - loss: 252013.5781\n",
      "Epoch 173/250\n",
      "32/32 [==============================] - 0s 1ms/step - loss: 251982.0781\n",
      "Epoch 174/250\n",
      "32/32 [==============================] - 0s 2ms/step - loss: 251950.6250\n",
      "Epoch 175/250\n",
      "32/32 [==============================] - 0s 2ms/step - loss: 251918.9219\n",
      "Epoch 176/250\n",
      "32/32 [==============================] - 0s 2ms/step - loss: 251887.5156\n",
      "Epoch 177/250\n",
      "32/32 [==============================] - 0s 2ms/step - loss: 251856.0000\n",
      "Epoch 178/250\n",
      "32/32 [==============================] - 0s 1ms/step - loss: 251824.4219\n",
      "Epoch 179/250\n",
      "32/32 [==============================] - 0s 2ms/step - loss: 251792.7656\n",
      "Epoch 180/250\n",
      "32/32 [==============================] - 0s 2ms/step - loss: 251761.2500\n",
      "Epoch 181/250\n",
      "32/32 [==============================] - 0s 2ms/step - loss: 251729.8438\n",
      "Epoch 182/250\n",
      "32/32 [==============================] - 0s 1ms/step - loss: 251698.3438\n",
      "Epoch 183/250\n",
      "32/32 [==============================] - 0s 2ms/step - loss: 251666.7031\n",
      "Epoch 184/250\n",
      "32/32 [==============================] - 0s 2ms/step - loss: 251635.2344\n",
      "Epoch 185/250\n",
      "32/32 [==============================] - 0s 1ms/step - loss: 251603.7188\n",
      "Epoch 186/250\n",
      "32/32 [==============================] - 0s 1ms/step - loss: 251572.2500\n",
      "Epoch 187/250\n",
      "32/32 [==============================] - 0s 1ms/step - loss: 251540.7031\n",
      "Epoch 188/250\n",
      "32/32 [==============================] - 0s 1ms/step - loss: 251509.1719\n",
      "Epoch 189/250\n",
      "32/32 [==============================] - 0s 1ms/step - loss: 251477.6406\n",
      "Epoch 190/250\n"
     ]
    },
    {
     "name": "stdout",
     "output_type": "stream",
     "text": [
      "32/32 [==============================] - 0s 2ms/step - loss: 251446.1719\n",
      "Epoch 191/250\n",
      "32/32 [==============================] - 0s 1ms/step - loss: 251414.6562\n",
      "Epoch 192/250\n",
      "32/32 [==============================] - 0s 1ms/step - loss: 251383.1719\n",
      "Epoch 193/250\n",
      "32/32 [==============================] - 0s 984us/step - loss: 251351.6875\n",
      "Epoch 194/250\n",
      "32/32 [==============================] - 0s 1ms/step - loss: 251320.1406\n",
      "Epoch 195/250\n",
      "32/32 [==============================] - 0s 1ms/step - loss: 251288.7500\n",
      "Epoch 196/250\n",
      "32/32 [==============================] - 0s 1ms/step - loss: 251257.1875\n",
      "Epoch 197/250\n",
      "32/32 [==============================] - 0s 1ms/step - loss: 251225.6094\n",
      "Epoch 198/250\n",
      "32/32 [==============================] - 0s 1ms/step - loss: 251194.1094\n",
      "Epoch 199/250\n",
      "32/32 [==============================] - 0s 1ms/step - loss: 251162.6875\n",
      "Epoch 200/250\n",
      "32/32 [==============================] - 0s 2ms/step - loss: 251131.2969\n",
      "Epoch 201/250\n",
      "32/32 [==============================] - 0s 2ms/step - loss: 251099.8438\n",
      "Epoch 202/250\n",
      "32/32 [==============================] - 0s 2ms/step - loss: 251068.2969\n",
      "Epoch 203/250\n",
      "32/32 [==============================] - 0s 2ms/step - loss: 251036.7656\n",
      "Epoch 204/250\n",
      "32/32 [==============================] - 0s 2ms/step - loss: 251005.2188\n",
      "Epoch 205/250\n",
      "32/32 [==============================] - 0s 2ms/step - loss: 250973.8594\n",
      "Epoch 206/250\n",
      "32/32 [==============================] - 0s 2ms/step - loss: 250942.2969\n",
      "Epoch 207/250\n",
      "32/32 [==============================] - 0s 1ms/step - loss: 250910.8438\n",
      "Epoch 208/250\n",
      "32/32 [==============================] - 0s 2ms/step - loss: 250879.3906\n",
      "Epoch 209/250\n",
      "32/32 [==============================] - 0s 1ms/step - loss: 250847.9688\n",
      "Epoch 210/250\n",
      "32/32 [==============================] - 0s 1ms/step - loss: 250816.4844\n",
      "Epoch 211/250\n",
      "32/32 [==============================] - 0s 2ms/step - loss: 250785.0469\n",
      "Epoch 212/250\n",
      "32/32 [==============================] - 0s 2ms/step - loss: 250753.5156\n",
      "Epoch 213/250\n",
      "32/32 [==============================] - 0s 1ms/step - loss: 250722.1562\n",
      "Epoch 214/250\n",
      "32/32 [==============================] - 0s 1ms/step - loss: 250690.5781\n",
      "Epoch 215/250\n",
      "32/32 [==============================] - 0s 1ms/step - loss: 250659.1719\n",
      "Epoch 216/250\n",
      "32/32 [==============================] - 0s 1ms/step - loss: 250627.7500\n",
      "Epoch 217/250\n",
      "32/32 [==============================] - 0s 1ms/step - loss: 250596.3750\n",
      "Epoch 218/250\n",
      "32/32 [==============================] - 0s 1ms/step - loss: 250564.8750\n",
      "Epoch 219/250\n",
      "32/32 [==============================] - 0s 1ms/step - loss: 250533.2969\n",
      "Epoch 220/250\n",
      "32/32 [==============================] - 0s 1ms/step - loss: 250501.9531\n",
      "Epoch 221/250\n",
      "32/32 [==============================] - 0s 1ms/step - loss: 250470.4844\n",
      "Epoch 222/250\n",
      "32/32 [==============================] - 0s 1ms/step - loss: 250439.0156\n",
      "Epoch 223/250\n",
      "32/32 [==============================] - 0s 1ms/step - loss: 250407.6094\n",
      "Epoch 224/250\n",
      "32/32 [==============================] - 0s 1ms/step - loss: 250376.2344\n",
      "Epoch 225/250\n",
      "32/32 [==============================] - 0s 2ms/step - loss: 250344.7500\n",
      "Epoch 226/250\n",
      "32/32 [==============================] - 0s 2ms/step - loss: 250313.3125\n",
      "Epoch 227/250\n",
      "32/32 [==============================] - 0s 2ms/step - loss: 250281.8906\n",
      "Epoch 228/250\n",
      "32/32 [==============================] - 0s 2ms/step - loss: 250250.4219\n",
      "Epoch 229/250\n",
      "32/32 [==============================] - 0s 2ms/step - loss: 250219.0469\n",
      "Epoch 230/250\n",
      "32/32 [==============================] - 0s 2ms/step - loss: 250187.6094\n",
      "Epoch 231/250\n",
      "32/32 [==============================] - 0s 1ms/step - loss: 250156.1719\n",
      "Epoch 232/250\n",
      "32/32 [==============================] - 0s 2ms/step - loss: 250124.7656\n",
      "Epoch 233/250\n",
      "32/32 [==============================] - 0s 1ms/step - loss: 250093.3438\n",
      "Epoch 234/250\n",
      "32/32 [==============================] - 0s 1ms/step - loss: 250061.9375\n",
      "Epoch 235/250\n",
      "32/32 [==============================] - 0s 1ms/step - loss: 250030.5781\n",
      "Epoch 236/250\n",
      "32/32 [==============================] - 0s 2ms/step - loss: 249999.0781\n",
      "Epoch 237/250\n",
      "32/32 [==============================] - 0s 2ms/step - loss: 249967.6094\n",
      "Epoch 238/250\n",
      "32/32 [==============================] - 0s 1ms/step - loss: 249936.3594\n",
      "Epoch 239/250\n",
      "32/32 [==============================] - 0s 1ms/step - loss: 249904.8438\n",
      "Epoch 240/250\n",
      "32/32 [==============================] - 0s 1ms/step - loss: 249873.4219\n",
      "Epoch 241/250\n",
      "32/32 [==============================] - 0s 1ms/step - loss: 249842.1250\n",
      "Epoch 242/250\n",
      "32/32 [==============================] - 0s 1ms/step - loss: 249810.7031\n",
      "Epoch 243/250\n",
      "32/32 [==============================] - 0s 2ms/step - loss: 249779.2812\n",
      "Epoch 244/250\n",
      "32/32 [==============================] - 0s 2ms/step - loss: 249747.9375\n",
      "Epoch 245/250\n",
      "32/32 [==============================] - 0s 2ms/step - loss: 249716.4688\n",
      "Epoch 246/250\n",
      "32/32 [==============================] - 0s 2ms/step - loss: 249685.0625\n",
      "Epoch 247/250\n",
      "32/32 [==============================] - 0s 2ms/step - loss: 249653.5938\n",
      "Epoch 248/250\n",
      "32/32 [==============================] - 0s 2ms/step - loss: 249622.2188\n",
      "Epoch 249/250\n",
      "32/32 [==============================] - 0s 2ms/step - loss: 249590.8906\n",
      "Epoch 250/250\n",
      "32/32 [==============================] - 0s 2ms/step - loss: 249559.5312\n"
     ]
    },
    {
     "data": {
      "text/plain": [
       "<keras.callbacks.History at 0x1b015d9f790>"
      ]
     },
     "execution_count": 61,
     "metadata": {},
     "output_type": "execute_result"
    }
   ],
   "source": [
    "final_model = Sequential()\n",
    "\n",
    "final_model.add(Dense(units = 4, activation = \"relu\"))     # input_dim = 2 or input_dim = X_train.shape[1]\n",
    "final_model.add(Dense(units = 4, activation = \"relu\"))\n",
    "final_model.add(Dense(units = 4, activation = \"relu\"))\n",
    "final_model.add(Dense(1))\n",
    "\n",
    "final_model.compile(optimizer = \"rmsprop\", loss = \"mse\")\n",
    "\n",
    "final_model.fit(x = X_scaled, y = y, batch_size = 32, epochs = 250)"
   ]
  },
  {
   "cell_type": "code",
   "execution_count": 62,
   "metadata": {},
   "outputs": [
    {
     "name": "stdout",
     "output_type": "stream",
     "text": [
      "Model: \"sequential_2\"\n",
      "_________________________________________________________________\n",
      " Layer (type)                Output Shape              Param #   \n",
      "=================================================================\n",
      " dense_8 (Dense)             (None, 4)                 12        \n",
      "                                                                 \n",
      " dense_9 (Dense)             (None, 4)                 20        \n",
      "                                                                 \n",
      " dense_10 (Dense)            (None, 4)                 20        \n",
      "                                                                 \n",
      " dense_11 (Dense)            (None, 1)                 5         \n",
      "                                                                 \n",
      "=================================================================\n",
      "Total params: 57\n",
      "Trainable params: 57\n",
      "Non-trainable params: 0\n",
      "_________________________________________________________________\n"
     ]
    }
   ],
   "source": [
    "final_model.summary()"
   ]
  },
  {
   "cell_type": "markdown",
   "metadata": {},
   "source": [
    "### Saving a Model"
   ]
  },
  {
   "cell_type": "markdown",
   "metadata": {},
   "source": [
    "You can save a TensorFlow/Keras model using [`model.save()`](https://www.tensorflow.org/tutorials/keras/save_and_load#save_the_entire_model).\n",
    "\n",
    "Keras saves models by inspecting their architectures. This technique saves everything:\n",
    "\n",
    "- The weight values\n",
    "- The model's architecture\n",
    "- The model's training configuration (what you pass to the .compile() method)\n",
    "- The optimizer and its state, if any (this enables you to restart training where you left off)\n",
    "\n",
    "There are two ways to save a model in TensorFlow:\n",
    "1. The [SavedModel format](https://www.tensorflow.org/tutorials/keras/save_and_load#savedmodel_format) (default).\n",
    "2. The [HDF5 format](https://www.tensorflow.org/tutorials/keras/save_and_load#hdf5_format).\n",
    "\n"
   ]
  },
  {
   "cell_type": "code",
   "execution_count": null,
   "metadata": {},
   "outputs": [],
   "source": [
    "# final modlimizi save derken save kullaniyoruz. "
   ]
  },
  {
   "cell_type": "code",
   "execution_count": 63,
   "metadata": {},
   "outputs": [],
   "source": [
    "final_model.save('model_fake_reg.h5')  # creates a HDF5 file 'my_model.h5'"
   ]
  },
  {
   "cell_type": "code",
   "execution_count": 64,
   "metadata": {},
   "outputs": [],
   "source": [
    "#final_model.save(\"model_fake_reg\") "
   ]
  },
  {
   "cell_type": "markdown",
   "metadata": {},
   "source": [
    "### Loading Model"
   ]
  },
  {
   "cell_type": "code",
   "execution_count": 65,
   "metadata": {},
   "outputs": [],
   "source": [
    "from tensorflow.keras.models import load_model"
   ]
  },
  {
   "cell_type": "code",
   "execution_count": 66,
   "metadata": {},
   "outputs": [],
   "source": [
    "model_fake_reg = load_model('model_fake_reg.h5')"
   ]
  },
  {
   "cell_type": "code",
   "execution_count": 67,
   "metadata": {},
   "outputs": [],
   "source": [
    "scaler_fake_reg = pickle.load(open(\"scaler_fake_reg\", \"rb\"))"
   ]
  },
  {
   "cell_type": "markdown",
   "metadata": {},
   "source": [
    "## Prediction-1"
   ]
  },
  {
   "cell_type": "code",
   "execution_count": 68,
   "metadata": {},
   "outputs": [],
   "source": [
    "sample = [[998, 1000]]"
   ]
  },
  {
   "cell_type": "code",
   "execution_count": 69,
   "metadata": {},
   "outputs": [],
   "source": [
    "sample_scaled = scaler_fake_reg.transform(sample)"
   ]
  },
  {
   "cell_type": "code",
   "execution_count": 70,
   "metadata": {},
   "outputs": [
    {
     "name": "stdout",
     "output_type": "stream",
     "text": [
      "1/1 [==============================] - 0s 121ms/step\n"
     ]
    },
    {
     "data": {
      "text/plain": [
       "array([[8.004037]], dtype=float32)"
      ]
     },
     "execution_count": 70,
     "metadata": {},
     "output_type": "execute_result"
    }
   ],
   "source": [
    "model_fake_reg.predict(sample_scaled)"
   ]
  },
  {
   "cell_type": "markdown",
   "metadata": {},
   "source": [
    "## Prediction-2"
   ]
  },
  {
   "cell_type": "code",
   "execution_count": 71,
   "metadata": {},
   "outputs": [],
   "source": [
    "my_dict = {\"Feature1\": [997, 998, 999, 1000, 1001],\n",
    "           \"Feature2\": [1000, 999, 998, 997, 996]}"
   ]
  },
  {
   "cell_type": "code",
   "execution_count": 72,
   "metadata": {},
   "outputs": [
    {
     "data": {
      "text/html": [
       "<div>\n",
       "<style scoped>\n",
       "    .dataframe tbody tr th:only-of-type {\n",
       "        vertical-align: middle;\n",
       "    }\n",
       "\n",
       "    .dataframe tbody tr th {\n",
       "        vertical-align: top;\n",
       "    }\n",
       "\n",
       "    .dataframe thead th {\n",
       "        text-align: right;\n",
       "    }\n",
       "</style>\n",
       "<table border=\"1\" class=\"dataframe\">\n",
       "  <thead>\n",
       "    <tr style=\"text-align: right;\">\n",
       "      <th></th>\n",
       "      <th>Feature1</th>\n",
       "      <th>Feature2</th>\n",
       "    </tr>\n",
       "  </thead>\n",
       "  <tbody>\n",
       "    <tr>\n",
       "      <th>0</th>\n",
       "      <td>997</td>\n",
       "      <td>1000</td>\n",
       "    </tr>\n",
       "    <tr>\n",
       "      <th>1</th>\n",
       "      <td>998</td>\n",
       "      <td>999</td>\n",
       "    </tr>\n",
       "    <tr>\n",
       "      <th>2</th>\n",
       "      <td>999</td>\n",
       "      <td>998</td>\n",
       "    </tr>\n",
       "    <tr>\n",
       "      <th>3</th>\n",
       "      <td>1000</td>\n",
       "      <td>997</td>\n",
       "    </tr>\n",
       "    <tr>\n",
       "      <th>4</th>\n",
       "      <td>1001</td>\n",
       "      <td>996</td>\n",
       "    </tr>\n",
       "  </tbody>\n",
       "</table>\n",
       "</div>"
      ],
      "text/plain": [
       "   Feature1  Feature2\n",
       "0       997      1000\n",
       "1       998       999\n",
       "2       999       998\n",
       "3      1000       997\n",
       "4      1001       996"
      ]
     },
     "execution_count": 72,
     "metadata": {},
     "output_type": "execute_result"
    }
   ],
   "source": [
    "sample = pd.DataFrame(my_dict)\n",
    "sample"
   ]
  },
  {
   "cell_type": "code",
   "execution_count": 73,
   "metadata": {},
   "outputs": [
    {
     "data": {
      "text/plain": [
       "array([[-0.00948799,  0.52980619],\n",
       "       [ 0.15312457,  0.35345977],\n",
       "       [ 0.31573713,  0.17711336],\n",
       "       [ 0.47834969,  0.00076694],\n",
       "       [ 0.64096225, -0.17557948]])"
      ]
     },
     "execution_count": 73,
     "metadata": {},
     "output_type": "execute_result"
    }
   ],
   "source": [
    "sample_scaled = scaler_fake_reg.transform(sample)\n",
    "sample_scaled"
   ]
  },
  {
   "cell_type": "code",
   "execution_count": 74,
   "metadata": {},
   "outputs": [
    {
     "name": "stdout",
     "output_type": "stream",
     "text": [
      "1/1 [==============================] - 0s 46ms/step\n"
     ]
    },
    {
     "data": {
      "text/plain": [
       "array([[8.004037],\n",
       "       [8.004037],\n",
       "       [8.004037],\n",
       "       [8.004037],\n",
       "       [8.004037]], dtype=float32)"
      ]
     },
     "execution_count": 74,
     "metadata": {},
     "output_type": "execute_result"
    }
   ],
   "source": [
    "model_fake_reg.predict(sample_scaled)"
   ]
  },
  {
   "cell_type": "markdown",
   "metadata": {},
   "source": [
    "___\n",
    "\n",
    "<p style=\"text-align: center;\"><img src=\"https://docs.google.com/uc?id=1lY0Uj5R04yMY3-ZppPWxqCr5pvBLYPnV\" class=\"img-fluid\" alt=\"CLRSWY\"></p>\n",
    "\n",
    "___"
   ]
  }
 ],
 "metadata": {
  "interpreter": {
   "hash": "aee8b7b246df8f9039afb4144a1f6fd8d2ca17a180786b69acc140d282b71a49"
  },
  "kernelspec": {
   "display_name": "Python 3 (ipykernel)",
   "language": "python",
   "name": "python3"
  },
  "language_info": {
   "codemirror_mode": {
    "name": "ipython",
    "version": 3
   },
   "file_extension": ".py",
   "mimetype": "text/x-python",
   "name": "python",
   "nbconvert_exporter": "python",
   "pygments_lexer": "ipython3",
   "version": "3.9.13"
  },
  "toc": {
   "base_numbering": 1,
   "nav_menu": {},
   "number_sections": false,
   "sideBar": true,
   "skip_h1_title": false,
   "title_cell": "Table of Contents",
   "title_sidebar": "Contents",
   "toc_cell": false,
   "toc_position": {
    "height": "calc(100% - 180px)",
    "left": "10px",
    "top": "150px",
    "width": "300.099px"
   },
   "toc_section_display": true,
   "toc_window_display": true
  }
 },
 "nbformat": 4,
 "nbformat_minor": 4
}
